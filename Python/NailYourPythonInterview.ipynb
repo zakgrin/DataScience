{
 "cells": [
  {
   "cell_type": "markdown",
   "metadata": {},
   "source": [
    "# Nail Your Python Interview\n",
    "LinkedIn Learning By Erin Allard"
   ]
  },
  {
   "cell_type": "markdown",
   "metadata": {
    "toc": true
   },
   "source": [
    "<h1>Table of Contents<span class=\"tocSkip\"></span></h1>\n",
    "<div class=\"toc\"><ul class=\"toc-item\"><li><span><a href=\"#Recursion\" data-toc-modified-id=\"Recursion-1\"><span class=\"toc-item-num\">1&nbsp;&nbsp;</span>Recursion</a></span><ul class=\"toc-item\"><li><span><a href=\"#AlS-Weigart-Talk:\" data-toc-modified-id=\"AlS-Weigart-Talk:-1.1\"><span class=\"toc-item-num\">1.1&nbsp;&nbsp;</span>AlS Weigart Talk:</a></span><ul class=\"toc-item\"><li><span><a href=\"#Factorials\" data-toc-modified-id=\"Factorials-1.1.1\"><span class=\"toc-item-num\">1.1.1&nbsp;&nbsp;</span>Factorials</a></span></li><li><span><a href=\"#Fibonacci\" data-toc-modified-id=\"Fibonacci-1.1.2\"><span class=\"toc-item-num\">1.1.2&nbsp;&nbsp;</span>Fibonacci</a></span></li></ul></li></ul></li><li><span><a href=\"#Object-Oriented-Programming\" data-toc-modified-id=\"Object-Oriented-Programming-2\"><span class=\"toc-item-num\">2&nbsp;&nbsp;</span>Object Oriented Programming</a></span></li><li><span><a href=\"#Linear-Data-Structure\" data-toc-modified-id=\"Linear-Data-Structure-3\"><span class=\"toc-item-num\">3&nbsp;&nbsp;</span>Linear Data Structure</a></span></li><li><span><a href=\"#Non-Linear-Data-Structures\" data-toc-modified-id=\"Non-Linear-Data-Structures-4\"><span class=\"toc-item-num\">4&nbsp;&nbsp;</span>Non-Linear Data Structures</a></span></li><li><span><a href=\"#Sorting-Algorithms\" data-toc-modified-id=\"Sorting-Algorithms-5\"><span class=\"toc-item-num\">5&nbsp;&nbsp;</span>Sorting Algorithms</a></span><ul class=\"toc-item\"><li><span><a href=\"#Insertion-Sort\" data-toc-modified-id=\"Insertion-Sort-5.1\"><span class=\"toc-item-num\">5.1&nbsp;&nbsp;</span>Insertion Sort</a></span></li><li><span><a href=\"#Merge-Sort\" data-toc-modified-id=\"Merge-Sort-5.2\"><span class=\"toc-item-num\">5.2&nbsp;&nbsp;</span>Merge Sort</a></span></li><li><span><a href=\"#Quick-Sort\" data-toc-modified-id=\"Quick-Sort-5.3\"><span class=\"toc-item-num\">5.3&nbsp;&nbsp;</span>Quick Sort</a></span></li></ul></li><li><span><a href=\"#Searching-Algorithms\" data-toc-modified-id=\"Searching-Algorithms-6\"><span class=\"toc-item-num\">6&nbsp;&nbsp;</span>Searching Algorithms</a></span><ul class=\"toc-item\"><li><span><a href=\"#Binary-Search\" data-toc-modified-id=\"Binary-Search-6.1\"><span class=\"toc-item-num\">6.1&nbsp;&nbsp;</span>Binary Search</a></span></li><li><span><a href=\"#Breadth-First-Search-of-Trees\" data-toc-modified-id=\"Breadth-First-Search-of-Trees-6.2\"><span class=\"toc-item-num\">6.2&nbsp;&nbsp;</span>Breadth-First Search of Trees</a></span></li><li><span><a href=\"#Depth-First-Search-of-Trees\" data-toc-modified-id=\"Depth-First-Search-of-Trees-6.3\"><span class=\"toc-item-num\">6.3&nbsp;&nbsp;</span>Depth-First Search of Trees</a></span></li></ul></li><li><span><a href=\"#Problem-Solving-Framework\" data-toc-modified-id=\"Problem-Solving-Framework-7\"><span class=\"toc-item-num\">7&nbsp;&nbsp;</span>Problem-Solving Framework</a></span></li><li><span><a href=\"#Other-Considerations\" data-toc-modified-id=\"Other-Considerations-8\"><span class=\"toc-item-num\">8&nbsp;&nbsp;</span>Other Considerations</a></span></li></ul></div>"
   ]
  },
  {
   "cell_type": "code",
   "execution_count": 66,
   "metadata": {},
   "outputs": [],
   "source": [
    "import time"
   ]
  },
  {
   "cell_type": "markdown",
   "metadata": {},
   "source": [
    "## Recursion"
   ]
  },
  {
   "cell_type": "code",
   "execution_count": 67,
   "metadata": {},
   "outputs": [
    {
     "name": "stdout",
     "output_type": "stream",
     "text": [
      "1999000\n",
      "0.0\n"
     ]
    }
   ],
   "source": [
    "def getTotalIter(lst):\n",
    "    total = 0\n",
    "    for num in lst:\n",
    "        total += num\n",
    "    return total\n",
    "    \n",
    "start = time.time()\n",
    "print(getTotalIter(list(range(2000))))\n",
    "print(time.time()-start)"
   ]
  },
  {
   "cell_type": "code",
   "execution_count": 68,
   "metadata": {},
   "outputs": [
    {
     "name": "stdout",
     "output_type": "stream",
     "text": [
      "1999000\n",
      "0.036147356033325195\n"
     ]
    }
   ],
   "source": [
    "def getTotalRec(lst):\n",
    "    # Base Case\n",
    "    if lst == []: \n",
    "        return 0\n",
    "    # Progress Case\n",
    "    return lst[0] + getTotal(lst[1:])\n",
    "    \n",
    "start = time.time()\n",
    "print(getTotalRec(list(range(2000)))) # maximum recursion depth in python is close\n",
    "print(time.time()-start)"
   ]
  },
  {
   "cell_type": "markdown",
   "metadata": {},
   "source": [
    "- Note that for iterative solution (i.e. loop) is still faster than recursion.\n",
    "- (YouTbue Video by Al Weigered)[https://www.youtube.com/watch?v=AfBqVVKg4GE&feature=youtu.be]"
   ]
  },
  {
   "cell_type": "markdown",
   "metadata": {},
   "source": [
    "### AlS Weigart Talk:\n",
    "\n",
    "__So why to do we need recursion if it is slower?__\n",
    "- Recursion is better for something that has a recursion nature which must have tree structure and require back tracking (e.g. Factorials, Fibonacci Sequence, File System, Trees, Mazes and Path Tracking). The iterative solution for these problems will be ugly and long!"
   ]
  },
  {
   "cell_type": "markdown",
   "metadata": {},
   "source": [
    "#### Factorials"
   ]
  },
  {
   "cell_type": "code",
   "execution_count": 76,
   "metadata": {},
   "outputs": [
    {
     "name": "stdout",
     "output_type": "stream",
     "text": [
      "120\n",
      "0.0\n"
     ]
    }
   ],
   "source": [
    "def factorial(num):\n",
    "    # Base Case\n",
    "    if num == 1:\n",
    "        return 1\n",
    "    # Recursive (Progress Case)\n",
    "    return num * factorial(num-1)\n",
    "\n",
    "start = time.time()\n",
    "print(factorial(5))\n",
    "print(time.time()-start)"
   ]
  },
  {
   "cell_type": "markdown",
   "metadata": {},
   "source": [
    "__How can we eliminate the Recursion limit and make it faster?__\n",
    "- We __Tail Call Optimization__ by adding a variable that collects the recursion value. However, this considered totally unpythonic!."
   ]
  },
  {
   "cell_type": "code",
   "execution_count": 77,
   "metadata": {},
   "outputs": [
    {
     "name": "stdout",
     "output_type": "stream",
     "text": [
      "120\n",
      "0.0\n"
     ]
    }
   ],
   "source": [
    "def factorialOpt(num, accumulator=1):\n",
    "    # Base Case\n",
    "    if num == 0:\n",
    "        return accumulator\n",
    "    # Recursive (Progress Case)\n",
    "    return factorial(num-1, num*accumulator)\n",
    "\n",
    "start = time.time()\n",
    "print(factorial(5))\n",
    "print(time.time()-start)"
   ]
  },
  {
   "cell_type": "markdown",
   "metadata": {},
   "source": [
    "#### Fibonacci "
   ]
  },
  {
   "cell_type": "code",
   "execution_count": 286,
   "metadata": {},
   "outputs": [
    {
     "name": "stdout",
     "output_type": "stream",
     "text": [
      "832040\n",
      "0.42668843269348145\n"
     ]
    }
   ],
   "source": [
    "def fib(nth_numb):\n",
    "    # Base Case:\n",
    "    if nth_numb == 1 or nth_numb == 2:\n",
    "        return 1\n",
    "    # Recursion Case:\n",
    "    return fib(nth_numb - 2) + fib(nth_numb - 1)\n",
    "\n",
    "start = time.time()\n",
    "print(fib(30))\n",
    "print(time.time()-start)"
   ]
  },
  {
   "cell_type": "markdown",
   "metadata": {},
   "source": [
    "- Note that this take long time to find high Fibonacci numbers because for each recursion we create two (exponential grow in amount of calc).\n",
    "- The solution to this issue is to cash value instead to reduce the amount of redundant work using __Memoization__ technique."
   ]
  },
  {
   "cell_type": "code",
   "execution_count": 287,
   "metadata": {},
   "outputs": [
    {
     "name": "stdout",
     "output_type": "stream",
     "text": [
      "832040\n",
      "0.0\n"
     ]
    }
   ],
   "source": [
    "FIB_CACHE = {} # Global\n",
    "\n",
    "def fib(nth_numb):\n",
    "    # Cache Retrieve:\n",
    "    if nth_numb in FIB_CACHE:\n",
    "        return FIB_CACHE[nth_numb]\n",
    "    # Base Case:\n",
    "    if nth_numb == 1 or nth_numb == 2:\n",
    "        return 1\n",
    "    # Recursion Case + Cache Update:\n",
    "    FIB_CACHE[nth_numb] = fib(nth_numb-2) + fib(nth_numb-1)\n",
    "    return FIB_CACHE[nth_numb]\n",
    "\n",
    "start = time.time()\n",
    "print(fib(30))\n",
    "print(time.time()-start)"
   ]
  },
  {
   "cell_type": "markdown",
   "metadata": {},
   "source": [
    "- Python support Cache using decorators base on 'lru* algorithm (i.e. least recently used). "
   ]
  },
  {
   "cell_type": "code",
   "execution_count": 289,
   "metadata": {},
   "outputs": [
    {
     "name": "stdout",
     "output_type": "stream",
     "text": [
      "832040\n",
      "0.0\n"
     ]
    }
   ],
   "source": [
    "import functools\n",
    "\n",
    "@functools.lru_cache() \n",
    "def fib(nth_numb):\n",
    "    # Base Case:\n",
    "    if nth_numb == 1 or nth_numb == 2:\n",
    "        return 1\n",
    "    # Recursion Case + Cache Update:\n",
    "    return fib(nth_numb-2) + fib(nth_numb-1)\n",
    "\n",
    "start = time.time()\n",
    "print(fib(30))\n",
    "print(time.time()-start)"
   ]
  },
  {
   "cell_type": "markdown",
   "metadata": {},
   "source": [
    "## Object Oriented Programming"
   ]
  },
  {
   "cell_type": "markdown",
   "metadata": {},
   "source": [
    "- OOP is important because classes and objects are everywhere in production code. "
   ]
  },
  {
   "cell_type": "code",
   "execution_count": 296,
   "metadata": {},
   "outputs": [
    {
     "name": "stdout",
     "output_type": "stream",
     "text": [
      "canine\n",
      "Toby\n",
      "Hi, I'am Toby\n"
     ]
    }
   ],
   "source": [
    "class Dog:\n",
    "    # class attribute:\n",
    "    species = 'canine'\n",
    "    \n",
    "    def __init__(self, name):\n",
    "        # instance attribute:\n",
    "        self.name = name\n",
    "    \n",
    "    def greet(self):\n",
    "        print(\"Hi, I'am\", self.name)\n",
    "    \n",
    "toby = Dog('Toby')\n",
    "print(toby.species)\n",
    "print(toby.name)\n",
    "toby.greet()"
   ]
  },
  {
   "cell_type": "markdown",
   "metadata": {},
   "source": [
    "__Why OOP is important?__\n",
    "- Encapsulation: data and function are associated with an object keeping them safe from outside interference (e.g. dog class function and attributes). \n",
    "- Inheritance: allows classes to be arranged in hierarchical order (e.g. parent, child, sub-child)\n",
    "- Polymorphism: allows for different implementation for same method names of classes and subclasses."
   ]
  },
  {
   "cell_type": "code",
   "execution_count": 300,
   "metadata": {},
   "outputs": [
    {
     "name": "stdout",
     "output_type": "stream",
     "text": [
      "Hi, I'm a canine\n",
      "I'm a mammal!\n"
     ]
    }
   ],
   "source": [
    "# Inheritance\n",
    "class Mammal:\n",
    "    blood_tem = 'warm'\n",
    "    def identify(self):\n",
    "        print(\"I'm a mammal!\")\n",
    "\n",
    "class Dog(Mammal):\n",
    "    species = 'canine'\n",
    "    def greet(self):\n",
    "        print(\"Hi, I'm a\", self.species)\n",
    "        self.identify()\n",
    "        \n",
    "myDog = Dog()\n",
    "myDog.greet()"
   ]
  },
  {
   "cell_type": "code",
   "execution_count": 302,
   "metadata": {},
   "outputs": [
    {
     "name": "stdout",
     "output_type": "stream",
     "text": [
      "unkown\n",
      "50.26548245743669\n"
     ]
    }
   ],
   "source": [
    "from math import pi\n",
    "\n",
    "# Polymorphism\n",
    "class Shape:\n",
    "    def draw(self):\n",
    "        print('unkown')\n",
    "    \n",
    "class Circle(Shape):\n",
    "    radius = 4\n",
    "    origin = (0,0)\n",
    "    def draw(self):\n",
    "        circumference = pi * (self.radius**2)\n",
    "        # draw circumference at origin\n",
    "        print(circumference)\n",
    "    \n",
    "shape = Shape()\n",
    "shape.draw()\n",
    "circle = Circle()\n",
    "circle.draw()"
   ]
  },
  {
   "cell_type": "markdown",
   "metadata": {},
   "source": [
    "## Linear Data Structure"
   ]
  },
  {
   "cell_type": "markdown",
   "metadata": {},
   "source": [
    "- Stack: \n",
    "    - Last in First out (LIFO) data structure.\n",
    "    - Allows adding and removing items in constant time O(1).\n",
    "    - Maintain items order.\n",
    "    - Used to have quick access to the latest item and keeping items in order. \n",
    "- Queues:\n",
    "    - First in First out (FIFO) data structure.\n",
    "    - Allows adding items in constant time O(1) but removing items in linear time O(n).\n",
    "    - Maintain items order.\n",
    "    - Used to process items in order.\n",
    "- Singly linked lists: \n",
    "    - Made of series of connected nodes.\n",
    "    - Allows only forward movement through the connected nodes.\n",
    "    - Adds and removes nodes before or after any key in the linked list.\n",
    "    - Maintains items order.\n",
    "    - Used to store unknown number of items in one directional movement in sequence or in-between.\n",
    "- Doubly linked lists: \n",
    "    - Same as 'Singly linked lists' but with backward movement as well.\n",
    "    - Used to be able to move backward and forward between connected nodes."
   ]
  },
  {
   "cell_type": "markdown",
   "metadata": {},
   "source": [
    "## Non-Linear Data Structures"
   ]
  },
  {
   "cell_type": "markdown",
   "metadata": {},
   "source": [
    "- Trees:\n",
    "    - Simulate a hierarchical tree structure with root node and zero or more subtrees.\n",
    "    - Parent, child, and sibling nodes.\n",
    "    - Used to store data hierarchically.\n",
    "- Binary Search Tree:\n",
    "    - Root node is roughly the midpoint.\n",
    "    - Smaller nodes on the left, larger nodes on the right.\n",
    "    - Data access is O(log*n) because at each time we eliminate half of what is left.\n",
    "    - Used to store data hierarchically with quick search. \n",
    "- Graph:\n",
    "    - Finite set of nodes (points) connected by lines (edges).\n",
    "    - Edges can optionally have values. \n",
    "    - Used to capture relationships between nodes (e.g. Social Network).\n",
    "- Hash Maps: (python dict)\n",
    "    - Map keys to values.\n",
    "    - A hash function converts key into an index which then can be used to store/find values.\n",
    "    - Search, add, and delete in O(1).\n",
    "    - Used to store/retrieve data based on keys. "
   ]
  },
  {
   "cell_type": "markdown",
   "metadata": {},
   "source": [
    "## Sorting Algorithms"
   ]
  },
  {
   "cell_type": "code",
   "execution_count": 45,
   "metadata": {},
   "outputs": [],
   "source": [
    "a = [4,3,2,10,12,1,5,6]"
   ]
  },
  {
   "cell_type": "markdown",
   "metadata": {},
   "source": [
    "### Insertion Sort\n",
    "- Simple\n",
    "- Best used on shorter or almost-sorted lists. \n",
    "- How to works:\n",
    "    - sorting by placing elements in their correct position.\n",
    "- Sorts in place, so memory usage is low because inplace sorting. \n",
    "- Average run time is not good O(n**2)"
   ]
  },
  {
   "cell_type": "code",
   "execution_count": 62,
   "metadata": {},
   "outputs": [
    {
     "data": {
      "text/plain": [
       "[1, 2, 3, 4, 5, 6, 10, 12]"
      ]
     },
     "execution_count": 62,
     "metadata": {},
     "output_type": "execute_result"
    }
   ],
   "source": [
    "def insertion_sort(lst, option='for'):\n",
    "    lst = lst[:]\n",
    "    for i in range(1, len(lst)): \n",
    "        key = lst[i] \n",
    "        \n",
    "        # Option 1: for loop\n",
    "        if option == 'for':\n",
    "            for j in range(i-1, -1, -1):\n",
    "                if j >= 0 and key < lst[j]:\n",
    "                    lst[j+1] = lst[j]\n",
    "                    lst[j] = key\n",
    "        \n",
    "        # Option 2: while loop\n",
    "        else: # if option == 'while'\n",
    "            j = i-1\n",
    "            while j >=0 and key < lst[j] : \n",
    "                    lst[j+1] = lst[j] \n",
    "                    j -= 1\n",
    "            lst[j+1] = key\n",
    "\n",
    "    return lst\n",
    "        \n",
    "insertion_sort(a, 'for')"
   ]
  },
  {
   "cell_type": "markdown",
   "metadata": {},
   "source": [
    "### Merge Sort\n",
    "- Efficient, general purpose, and comparison based. \n",
    "- Breaks a list down into individual elements and then puts elements into sorted pairs until the list is in order.\n",
    "- Memory usage is linear O(n). \n",
    "- Average time is O(nlogn) (more efficient than insertion sort). "
   ]
  },
  {
   "cell_type": "code",
   "execution_count": 63,
   "metadata": {},
   "outputs": [],
   "source": [
    "def merge_sort(lst):\n",
    "    return"
   ]
  },
  {
   "cell_type": "markdown",
   "metadata": {},
   "source": [
    "### Quick Sort\n",
    "- Comparison based and uses divide and conquer strategy.\n",
    "- Chooses a \"pivot\" in the list and then moves all smaller items to the left of the pivot, and elements larger than the pivot to the right of the pivot.\n",
    "- Memory usage is low (sorting inplace).\n",
    "- Average run time is O(nlogn)."
   ]
  },
  {
   "cell_type": "code",
   "execution_count": 64,
   "metadata": {},
   "outputs": [],
   "source": [
    "def quick_sort():\n",
    "    return"
   ]
  },
  {
   "cell_type": "markdown",
   "metadata": {},
   "source": [
    "## Searching Algorithms"
   ]
  },
  {
   "cell_type": "markdown",
   "metadata": {},
   "source": [
    "### Binary Search"
   ]
  },
  {
   "cell_type": "markdown",
   "metadata": {},
   "source": [
    "- Compares the target value to the middle element in a sorted list. If they're not equal, the half in which the target value cannot exit is eliminated.\n",
    "- The midpoint search is performed recursively on the remaining half until the target value is found (or not found).\n",
    "- Worst-case runtime is O(log n).\n",
    "- The list should be sorted first! or we should use binary data structure. \n",
    "- Used to find elements in sorted lists or to find a node in a binary search tree. "
   ]
  },
  {
   "cell_type": "code",
   "execution_count": null,
   "metadata": {},
   "outputs": [],
   "source": []
  },
  {
   "cell_type": "markdown",
   "metadata": {},
   "source": [
    "### Breadth-First Search of Trees"
   ]
  },
  {
   "cell_type": "markdown",
   "metadata": {},
   "source": [
    "- An algorithm for traversing trees and graphs. \n",
    "- Starts at the root node and explores all sibling nodes before moving on to the next level of siblings. \n",
    "- Used to find the shortest path between two nodes in a tree or in unweighted graph. "
   ]
  },
  {
   "cell_type": "code",
   "execution_count": null,
   "metadata": {},
   "outputs": [],
   "source": []
  },
  {
   "cell_type": "markdown",
   "metadata": {},
   "source": [
    "### Depth-First Search of Trees"
   ]
  },
  {
   "cell_type": "markdown",
   "metadata": {},
   "source": [
    "- An algorithm for traversing trees and graphs.\n",
    "- Starts at the root node and explores as far down the path as possible until hitting the end, then backtracks to the node that was the most recent 'root' node and explores again.\n",
    "- Used to explore every possible path including the longest path between two nodes, or when backtracking is important. Should not be used in very deep or infinitely deep graphs due to max recursion depth limit. "
   ]
  },
  {
   "cell_type": "code",
   "execution_count": null,
   "metadata": {},
   "outputs": [],
   "source": []
  },
  {
   "cell_type": "markdown",
   "metadata": {},
   "source": [
    "## Problem-Solving Framework"
   ]
  },
  {
   "cell_type": "markdown",
   "metadata": {},
   "source": [
    "- Write down the main parts of the coding challenge.\n",
    "    - inputs and outputs\n",
    "    - assumptions\n",
    "    - task\n",
    "- Write down ideas first (not in code or pseudocode). \n",
    "- Convert ideas to pseudpcode.\n",
    "- Write the code last. \n",
    "- Run trough the code line by line using a general test case, then one or more edge cases.\n",
    "- Figure out the runtime of your solution.\n",
    "- During the process, ask your interviewer if you are headed in the right direction, or if there is anything they think you could do to improve the solution. "
   ]
  },
  {
   "cell_type": "markdown",
   "metadata": {},
   "source": [
    "__ Tips for Whiteboarding and Pair Programming:__\n",
    "- Try not to get flustered if you forget syntax or method names.\n",
    "- Try not to get upset if the problem is too hard or you did not complete it. \n",
    "- Ask for help: \"Am I headed in the right direction?\""
   ]
  },
  {
   "cell_type": "markdown",
   "metadata": {},
   "source": [
    "## Other Considerations"
   ]
  },
  {
   "cell_type": "markdown",
   "metadata": {},
   "source": [
    "- Start applying for jobs before you feel ready. \n",
    "- Teaching is one of the most effective learning tools. \n",
    "- Failure and rejection are part of the process. Continue to apply for companies even if they rejected you in the past. \n",
    "- You don't need every company to want to hire you. You need the right company to want to hire you.\n",
    "- Interview your interviewers and come up with good questions to get the most useful information about the company.\n",
    "\n",
    "\n",
    "__What are the next steps__\n",
    "- Practice everyday:\n",
    "    - Read: Problem Solving with Algorithms and Data Structure using Python [link](https://runestone.academy/runestone/books/published/pythonds/index.html).\n",
    "- Check other courses:\n",
    "    - Python Data Structures: Stacks, Queues, and Deques.\n",
    "    - Python Data Structures: Linked Lists\n",
    "    - Programming Foundations: Object Oriented Design. \n",
    "    - Python Essential Training (especially chapter 9 for classes). "
   ]
  },
  {
   "cell_type": "code",
   "execution_count": null,
   "metadata": {},
   "outputs": [],
   "source": []
  }
 ],
 "metadata": {
  "kernelspec": {
   "display_name": "Python 3",
   "language": "python",
   "name": "python3"
  },
  "language_info": {
   "codemirror_mode": {
    "name": "ipython",
    "version": 3
   },
   "file_extension": ".py",
   "mimetype": "text/x-python",
   "name": "python",
   "nbconvert_exporter": "python",
   "pygments_lexer": "ipython3",
   "version": "3.7.7"
  },
  "toc": {
   "base_numbering": 1,
   "nav_menu": {},
   "number_sections": true,
   "sideBar": true,
   "skip_h1_title": true,
   "title_cell": "Table of Contents",
   "title_sidebar": "Contents",
   "toc_cell": true,
   "toc_position": {},
   "toc_section_display": true,
   "toc_window_display": false
  },
  "varInspector": {
   "cols": {
    "lenName": 16,
    "lenType": 16,
    "lenVar": 40
   },
   "kernels_config": {
    "python": {
     "delete_cmd_postfix": "",
     "delete_cmd_prefix": "del ",
     "library": "var_list.py",
     "varRefreshCmd": "print(var_dic_list())"
    },
    "r": {
     "delete_cmd_postfix": ") ",
     "delete_cmd_prefix": "rm(",
     "library": "var_list.r",
     "varRefreshCmd": "cat(var_dic_list()) "
    }
   },
   "types_to_exclude": [
    "module",
    "function",
    "builtin_function_or_method",
    "instance",
    "_Feature"
   ],
   "window_display": false
  }
 },
 "nbformat": 4,
 "nbformat_minor": 4
}
