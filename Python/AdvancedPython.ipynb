{
 "cells": [
  {
   "cell_type": "markdown",
   "metadata": {},
   "source": [
    "# Advanced Python\n",
    "(by Joe Marini in LinkedIn Learning)"
   ]
  },
  {
   "cell_type": "markdown",
   "metadata": {
    "toc": true
   },
   "source": [
    "<h1>Table of Contents<span class=\"tocSkip\"></span></h1>\n",
    "<div class=\"toc\"><ul class=\"toc-item\"><li><span><a href=\"#Python-Language-Features\" data-toc-modified-id=\"Python-Language-Features-1\"><span class=\"toc-item-num\">1&nbsp;&nbsp;</span>Python Language Features</a></span><ul class=\"toc-item\"><li><span><a href=\"#Python-Coding-Style\" data-toc-modified-id=\"Python-Coding-Style-1.1\"><span class=\"toc-item-num\">1.1&nbsp;&nbsp;</span>Python Coding Style</a></span></li><li><span><a href=\"#Truth-Value-Testing\" data-toc-modified-id=\"Truth-Value-Testing-1.2\"><span class=\"toc-item-num\">1.2&nbsp;&nbsp;</span>Truth Value Testing</a></span></li><li><span><a href=\"#String-vs.-Bytes\" data-toc-modified-id=\"String-vs.-Bytes-1.3\"><span class=\"toc-item-num\">1.3&nbsp;&nbsp;</span>String vs. Bytes</a></span></li><li><span><a href=\"#Template-Strings\" data-toc-modified-id=\"Template-Strings-1.4\"><span class=\"toc-item-num\">1.4&nbsp;&nbsp;</span>Template Strings</a></span></li></ul></li><li><span><a href=\"#Built-in-Functions\" data-toc-modified-id=\"Built-in-Functions-2\"><span class=\"toc-item-num\">2&nbsp;&nbsp;</span>Built-in Functions</a></span><ul class=\"toc-item\"><li><span><a href=\"#Utilities\" data-toc-modified-id=\"Utilities-2.1\"><span class=\"toc-item-num\">2.1&nbsp;&nbsp;</span>Utilities</a></span></li><li><span><a href=\"#Transformers\" data-toc-modified-id=\"Transformers-2.2\"><span class=\"toc-item-num\">2.2&nbsp;&nbsp;</span>Transformers</a></span><ul class=\"toc-item\"><li><span><a href=\"#filter\" data-toc-modified-id=\"filter-2.2.1\"><span class=\"toc-item-num\">2.2.1&nbsp;&nbsp;</span><code>filter</code></a></span></li><li><span><a href=\"#map\" data-toc-modified-id=\"map-2.2.2\"><span class=\"toc-item-num\">2.2.2&nbsp;&nbsp;</span><code>map</code></a></span></li></ul></li><li><span><a href=\"#Itertools\" data-toc-modified-id=\"Itertools-2.3\"><span class=\"toc-item-num\">2.3&nbsp;&nbsp;</span>Itertools</a></span><ul class=\"toc-item\"><li><span><a href=\"#itertools.cycle\" data-toc-modified-id=\"itertools.cycle-2.3.1\"><span class=\"toc-item-num\">2.3.1&nbsp;&nbsp;</span><code>itertools.cycle</code></a></span></li><li><span><a href=\"#itertools.count\" data-toc-modified-id=\"itertools.count-2.3.2\"><span class=\"toc-item-num\">2.3.2&nbsp;&nbsp;</span><code>itertools.count</code></a></span></li><li><span><a href=\"#itertools.accumulate\" data-toc-modified-id=\"itertools.accumulate-2.3.3\"><span class=\"toc-item-num\">2.3.3&nbsp;&nbsp;</span><code>itertools.accumulate</code></a></span></li><li><span><a href=\"#itertools.chain\" data-toc-modified-id=\"itertools.chain-2.3.4\"><span class=\"toc-item-num\">2.3.4&nbsp;&nbsp;</span><code>itertools.chain</code></a></span></li><li><span><a href=\"#dropwhile-and-takewhile\" data-toc-modified-id=\"dropwhile-and-takewhile-2.3.5\"><span class=\"toc-item-num\">2.3.5&nbsp;&nbsp;</span><code>dropwhile</code> and <code>takewhile</code></a></span></li></ul></li></ul></li><li><span><a href=\"#Advanced-Python-Function\" data-toc-modified-id=\"Advanced-Python-Function-3\"><span class=\"toc-item-num\">3&nbsp;&nbsp;</span>Advanced Python Function</a></span><ul class=\"toc-item\"><li><span><a href=\"#Function-Documentation-Strings\" data-toc-modified-id=\"Function-Documentation-Strings-3.1\"><span class=\"toc-item-num\">3.1&nbsp;&nbsp;</span>Function Documentation Strings</a></span></li><li><span><a href=\"#Variable-Argument-Lists\" data-toc-modified-id=\"Variable-Argument-Lists-3.2\"><span class=\"toc-item-num\">3.2&nbsp;&nbsp;</span>Variable Argument Lists</a></span></li><li><span><a href=\"#Lambda-Functions\" data-toc-modified-id=\"Lambda-Functions-3.3\"><span class=\"toc-item-num\">3.3&nbsp;&nbsp;</span>Lambda Functions</a></span></li><li><span><a href=\"#Keyword-only-Arguments\" data-toc-modified-id=\"Keyword-only-Arguments-3.4\"><span class=\"toc-item-num\">3.4&nbsp;&nbsp;</span>Keyword-only Arguments</a></span></li></ul></li><li><span><a href=\"#Advanced-Collections\" data-toc-modified-id=\"Advanced-Collections-4\"><span class=\"toc-item-num\">4&nbsp;&nbsp;</span>Advanced Collections</a></span><ul class=\"toc-item\"><li><span><a href=\"#Advanced-Collections-Overview\" data-toc-modified-id=\"Advanced-Collections-Overview-4.1\"><span class=\"toc-item-num\">4.1&nbsp;&nbsp;</span>Advanced Collections Overview</a></span></li><li><span><a href=\"#namedtuple\" data-toc-modified-id=\"namedtuple-4.2\"><span class=\"toc-item-num\">4.2&nbsp;&nbsp;</span><code>namedtuple</code></a></span></li><li><span><a href=\"#defaultdict\" data-toc-modified-id=\"defaultdict-4.3\"><span class=\"toc-item-num\">4.3&nbsp;&nbsp;</span><code>defaultdict</code></a></span></li><li><span><a href=\"#Counter\" data-toc-modified-id=\"Counter-4.4\"><span class=\"toc-item-num\">4.4&nbsp;&nbsp;</span><code>Counter</code></a></span></li><li><span><a href=\"#OrderedDict\" data-toc-modified-id=\"OrderedDict-4.5\"><span class=\"toc-item-num\">4.5&nbsp;&nbsp;</span><code>OrderedDict</code></a></span></li><li><span><a href=\"#deque\" data-toc-modified-id=\"deque-4.6\"><span class=\"toc-item-num\">4.6&nbsp;&nbsp;</span><code>deque</code></a></span></li></ul></li><li><span><a href=\"#Advanced-Classes-and-Objects\" data-toc-modified-id=\"Advanced-Classes-and-Objects-5\"><span class=\"toc-item-num\">5&nbsp;&nbsp;</span>Advanced Classes and Objects</a></span><ul class=\"toc-item\"><li><span><a href=\"#Advanced-Classes-Overview\" data-toc-modified-id=\"Advanced-Classes-Overview-5.1\"><span class=\"toc-item-num\">5.1&nbsp;&nbsp;</span>Advanced Classes Overview</a></span></li><li><span><a href=\"#Defining-Enumerations\" data-toc-modified-id=\"Defining-Enumerations-5.2\"><span class=\"toc-item-num\">5.2&nbsp;&nbsp;</span>Defining Enumerations</a></span></li><li><span><a href=\"#Class-String-Values\" data-toc-modified-id=\"Class-String-Values-5.3\"><span class=\"toc-item-num\">5.3&nbsp;&nbsp;</span>Class String Values</a></span></li><li><span><a href=\"#Computed-Attributes\" data-toc-modified-id=\"Computed-Attributes-5.4\"><span class=\"toc-item-num\">5.4&nbsp;&nbsp;</span>Computed Attributes</a></span></li><li><span><a href=\"#Object-Operations\" data-toc-modified-id=\"Object-Operations-5.5\"><span class=\"toc-item-num\">5.5&nbsp;&nbsp;</span>Object Operations</a></span></li><li><span><a href=\"#Object-Comparisons\" data-toc-modified-id=\"Object-Comparisons-5.6\"><span class=\"toc-item-num\">5.6&nbsp;&nbsp;</span>Object Comparisons</a></span></li></ul></li><li><span><a href=\"#Using-Logging\" data-toc-modified-id=\"Using-Logging-6\"><span class=\"toc-item-num\">6&nbsp;&nbsp;</span>Using Logging</a></span><ul class=\"toc-item\"><li><span><a href=\"#Overview-of-Logging\" data-toc-modified-id=\"Overview-of-Logging-6.1\"><span class=\"toc-item-num\">6.1&nbsp;&nbsp;</span>Overview of Logging</a></span></li><li><span><a href=\"#Basic-Logging\" data-toc-modified-id=\"Basic-Logging-6.2\"><span class=\"toc-item-num\">6.2&nbsp;&nbsp;</span>Basic Logging</a></span></li><li><span><a href=\"#Custom-Logging\" data-toc-modified-id=\"Custom-Logging-6.3\"><span class=\"toc-item-num\">6.3&nbsp;&nbsp;</span>Custom Logging</a></span></li></ul></li><li><span><a href=\"#Python-Comprehensions\" data-toc-modified-id=\"Python-Comprehensions-7\"><span class=\"toc-item-num\">7&nbsp;&nbsp;</span>Python Comprehensions</a></span><ul class=\"toc-item\"><li><span><a href=\"#What-Are-Comprehensions\" data-toc-modified-id=\"What-Are-Comprehensions-7.1\"><span class=\"toc-item-num\">7.1&nbsp;&nbsp;</span>What Are Comprehensions</a></span></li><li><span><a href=\"#List-Comprehensions\" data-toc-modified-id=\"List-Comprehensions-7.2\"><span class=\"toc-item-num\">7.2&nbsp;&nbsp;</span>List Comprehensions</a></span></li><li><span><a href=\"#Dictionary-Comprehensions\" data-toc-modified-id=\"Dictionary-Comprehensions-7.3\"><span class=\"toc-item-num\">7.3&nbsp;&nbsp;</span>Dictionary Comprehensions</a></span></li><li><span><a href=\"#Set-Comprehensions\" data-toc-modified-id=\"Set-Comprehensions-7.4\"><span class=\"toc-item-num\">7.4&nbsp;&nbsp;</span>Set Comprehensions</a></span></li></ul></li><li><span><a href=\"#The-End\" data-toc-modified-id=\"The-End-8\"><span class=\"toc-item-num\">8&nbsp;&nbsp;</span>The End</a></span></li></ul></div>"
   ]
  },
  {
   "cell_type": "markdown",
   "metadata": {
    "collapsed": true,
    "heading_collapsed": true
   },
   "source": [
    "## Python Language Features"
   ]
  },
  {
   "cell_type": "markdown",
   "metadata": {
    "heading_collapsed": true,
    "hidden": true
   },
   "source": [
    "### Python Coding Style"
   ]
  },
  {
   "cell_type": "markdown",
   "metadata": {
    "hidden": true
   },
   "source": [
    "__Important:__\n",
    "- Code gets read more often than it gets written.\n",
    "- Adhering to Pep8 makes it easier to read/write code for you and others. \n",
    "    \n",
    "__Rules:__\n",
    "- Indent code with spaces instead of tabs (use 4 spaces for each indentation level). \n",
    "- Limit lines to 79 characters (including indents)\n",
    "- Limit comments/doc to 72. \n",
    "- Functions and Classes should be separated by 2 blank lines.\n",
    "- Within classes, 1 blank line should separate methods.\n",
    "- No spaces around function calls, indexes, arguments.\n",
    "    \n",
    "__White Space Conventions:__\n",
    "\n",
    "Wrong | Correct\n",
    "--- | --- \n",
    "`spam( ham[ 1 ], {eggs: 2 }` | `spam(ham[1], {eggs: 2})`\n",
    "`fn (arg)` | `fn(arg)`\n",
    "`dict [key] = list [index]` | `dict[key] = list[index]`\n",
    "`x   = 1` | `x = 1`\n",
    "`z = x * x + y * y` | `z = x*x + y*y`\n",
    "`i=i+1` | `i = i + 1`"
   ]
  },
  {
   "cell_type": "markdown",
   "metadata": {
    "heading_collapsed": true,
    "hidden": true
   },
   "source": [
    "### Truth Value Testing"
   ]
  },
  {
   "cell_type": "markdown",
   "metadata": {
    "hidden": true
   },
   "source": [
    "__Important:__\n",
    "- Any object in python can be tested for boolean value. By default all objects are `True` unless if `len()=0` or `bool()=False`.\n",
    "    \n",
    "__Evaluates To False:__\n",
    "1. `False` or `None`\n",
    "2. Numeric zero values: `0, 0.0, or 0j`\n",
    "3. `Decimal(0)` or `Franction(0, x)`\n",
    "4. Empty sequences: `(), [], {}`\n",
    "5. Empty sets and ranges: `set(), range(0)`\n",
    "6. Custom objects with over written `bool() or len()`"
   ]
  },
  {
   "cell_type": "code",
   "execution_count": 1,
   "metadata": {
    "hidden": true
   },
   "outputs": [
    {
     "name": "stdout",
     "output_type": "stream",
     "text": [
      "bool test:  True\n"
     ]
    }
   ],
   "source": [
    "# Default Objects: \n",
    "print('bool test: ', bool(object))"
   ]
  },
  {
   "cell_type": "code",
   "execution_count": 2,
   "metadata": {
    "hidden": true
   },
   "outputs": [
    {
     "name": "stdout",
     "output_type": "stream",
     "text": [
      "bool test:  False\n"
     ]
    }
   ],
   "source": [
    "# Custom Objects (with 0 len method): \n",
    "class MyClass:\n",
    "    def __len__(self):\n",
    "        return 0\n",
    "    \n",
    "myClass = MyClass()\n",
    "print('bool test: ', bool(myClass))"
   ]
  },
  {
   "cell_type": "code",
   "execution_count": 3,
   "metadata": {
    "hidden": true
   },
   "outputs": [
    {
     "name": "stdout",
     "output_type": "stream",
     "text": [
      "bool test:  False\n"
     ]
    }
   ],
   "source": [
    "# Custom Objects (with 1 len method but False bool): \n",
    "class MyClass:\n",
    "    def __len__(self):\n",
    "        return 1\n",
    "    def __bool__(self):\n",
    "        return False\n",
    "\n",
    "myClass = MyClass()\n",
    "print('bool test: ', bool(myClass)) # Priority to bool method!"
   ]
  },
  {
   "cell_type": "markdown",
   "metadata": {
    "hidden": true
   },
   "source": [
    "__Basic Boolean Operations:__ "
   ]
  },
  {
   "cell_type": "code",
   "execution_count": 4,
   "metadata": {
    "hidden": true
   },
   "outputs": [
    {
     "name": "stdout",
     "output_type": "stream",
     "text": [
      "True and True: True\n",
      "True and False: False\n"
     ]
    }
   ],
   "source": [
    "print(\"True and True:\", True and True)\n",
    "print(\"True and False:\", True and False)"
   ]
  },
  {
   "cell_type": "code",
   "execution_count": 5,
   "metadata": {
    "hidden": true
   },
   "outputs": [
    {
     "name": "stdout",
     "output_type": "stream",
     "text": [
      "True or True: True\n",
      "True or False: True\n"
     ]
    }
   ],
   "source": [
    "print(\"True or True:\", True or True)\n",
    "print(\"True or False:\", True or False)"
   ]
  },
  {
   "cell_type": "code",
   "execution_count": 6,
   "metadata": {
    "hidden": true
   },
   "outputs": [
    {
     "name": "stdout",
     "output_type": "stream",
     "text": [
      "not True: False\n",
      "not False: True\n"
     ]
    }
   ],
   "source": [
    "print(\"not True:\", not True)\n",
    "print(\"not False:\", not False)"
   ]
  },
  {
   "cell_type": "markdown",
   "metadata": {
    "heading_collapsed": true,
    "hidden": true
   },
   "source": [
    "### String vs. Bytes"
   ]
  },
  {
   "cell_type": "markdown",
   "metadata": {
    "hidden": true
   },
   "source": [
    "- Encode: __str  ---> byte__\n",
    "- Decode: __byte ---> str__"
   ]
  },
  {
   "cell_type": "code",
   "execution_count": 7,
   "metadata": {
    "hidden": true
   },
   "outputs": [
    {
     "data": {
      "text/plain": [
       "b'ABCD'"
      ]
     },
     "execution_count": 7,
     "metadata": {},
     "output_type": "execute_result"
    }
   ],
   "source": [
    "b = bytes([0x41, 0x42, 0x43, 0x44])\n",
    "b"
   ]
  },
  {
   "cell_type": "code",
   "execution_count": 8,
   "metadata": {
    "hidden": true
   },
   "outputs": [
    {
     "data": {
      "text/plain": [
       "'This is a String'"
      ]
     },
     "execution_count": 8,
     "metadata": {},
     "output_type": "execute_result"
    }
   ],
   "source": [
    "s = 'This is a String'\n",
    "s"
   ]
  },
  {
   "cell_type": "code",
   "execution_count": 9,
   "metadata": {
    "hidden": true
   },
   "outputs": [
    {
     "data": {
      "text/plain": [
       "'This is a StringABCD'"
      ]
     },
     "execution_count": 9,
     "metadata": {},
     "output_type": "execute_result"
    }
   ],
   "source": [
    "# b + s # TypeError: can't concat str to bytes\n",
    "b_s = b.decode()\n",
    "s + b_s"
   ]
  },
  {
   "cell_type": "code",
   "execution_count": 10,
   "metadata": {
    "hidden": true
   },
   "outputs": [
    {
     "data": {
      "text/plain": [
       "b'ABCDThis is a String'"
      ]
     },
     "execution_count": 10,
     "metadata": {},
     "output_type": "execute_result"
    }
   ],
   "source": [
    "s_b = s.encode()\n",
    "b + s_b"
   ]
  },
  {
   "cell_type": "code",
   "execution_count": 11,
   "metadata": {
    "hidden": true
   },
   "outputs": [
    {
     "data": {
      "text/plain": [
       "b'\\xff\\xfe\\x00\\x00T\\x00\\x00\\x00h\\x00\\x00\\x00i\\x00\\x00\\x00s\\x00\\x00\\x00 \\x00\\x00\\x00i\\x00\\x00\\x00s\\x00\\x00\\x00 \\x00\\x00\\x00a\\x00\\x00\\x00 \\x00\\x00\\x00S\\x00\\x00\\x00t\\x00\\x00\\x00r\\x00\\x00\\x00i\\x00\\x00\\x00n\\x00\\x00\\x00g\\x00\\x00\\x00'"
      ]
     },
     "execution_count": 11,
     "metadata": {},
     "output_type": "execute_result"
    }
   ],
   "source": [
    "s.encode('utf-32')"
   ]
  },
  {
   "cell_type": "markdown",
   "metadata": {
    "heading_collapsed": true,
    "hidden": true
   },
   "source": [
    "### Template Strings"
   ]
  },
  {
   "cell_type": "markdown",
   "metadata": {
    "hidden": true
   },
   "source": [
    "__Important:__\n",
    "- There are at least 4 ways to format strings in Python.\n",
    "- `Template` from `string` module is more secure. "
   ]
  },
  {
   "cell_type": "code",
   "execution_count": 12,
   "metadata": {
    "hidden": true
   },
   "outputs": [
    {
     "data": {
      "text/plain": [
       "'You are a Bat Man'"
      ]
     },
     "execution_count": 12,
     "metadata": {},
     "output_type": "execute_result"
    }
   ],
   "source": [
    "\"You are a {0} {1}\".format(\"Bat\", \"Man\")"
   ]
  },
  {
   "cell_type": "code",
   "execution_count": 13,
   "metadata": {
    "hidden": true
   },
   "outputs": [
    {
     "data": {
      "text/plain": [
       "'You are a Bat Man'"
      ]
     },
     "execution_count": 13,
     "metadata": {},
     "output_type": "execute_result"
    }
   ],
   "source": [
    "from string import Template\n",
    "temp = Template(\"You are a ${Attr} ${Gen}\")\n",
    "temp.substitute(Attr=\"Bat\", Gen=\"Man\")"
   ]
  },
  {
   "cell_type": "code",
   "execution_count": 14,
   "metadata": {
    "hidden": true
   },
   "outputs": [
    {
     "data": {
      "text/plain": [
       "'You are a Bat Man'"
      ]
     },
     "execution_count": 14,
     "metadata": {},
     "output_type": "execute_result"
    }
   ],
   "source": [
    "data = {'Attr': 'Bat', 'Gen': 'Man'}\n",
    "temp.substitute(data)"
   ]
  },
  {
   "cell_type": "markdown",
   "metadata": {
    "heading_collapsed": true
   },
   "source": [
    "## Built-in Functions"
   ]
  },
  {
   "cell_type": "markdown",
   "metadata": {
    "heading_collapsed": true,
    "hidden": true
   },
   "source": [
    "### Utilities"
   ]
  },
  {
   "cell_type": "markdown",
   "metadata": {
    "hidden": true
   },
   "source": [
    "- Can be accessed in Python documentation under [built-in-functions](https://docs.python.org/3/library/functions.html#built-in-functions)."
   ]
  },
  {
   "cell_type": "code",
   "execution_count": 15,
   "metadata": {
    "hidden": true
   },
   "outputs": [
    {
     "name": "stdout",
     "output_type": "stream",
     "text": [
      "any: True\n",
      "all: False\n",
      "min: 0\n",
      "max: 6\n",
      "sum: 17\n"
     ]
    }
   ],
   "source": [
    "ls = [1, 2, 3, 0, 5, 6]\n",
    "print('any:', any(ls)) # True if at least one element is not zero. \n",
    "print('all:', all(ls)) # True only if all elements are not zero. \n",
    "print('min:', min(ls))\n",
    "print('max:', max(ls))\n",
    "print('sum:', sum(ls))"
   ]
  },
  {
   "cell_type": "markdown",
   "metadata": {
    "heading_collapsed": true,
    "hidden": true
   },
   "source": [
    "### Transformers"
   ]
  },
  {
   "cell_type": "markdown",
   "metadata": {
    "hidden": true
   },
   "source": [
    "#### `filter`"
   ]
  },
  {
   "cell_type": "markdown",
   "metadata": {
    "hidden": true
   },
   "source": [
    "__Important:__\n",
    "It creates an iterator that filters out values from a given __sequence__ based on a given __function__."
   ]
  },
  {
   "cell_type": "code",
   "execution_count": 16,
   "metadata": {
    "hidden": true
   },
   "outputs": [
    {
     "data": {
      "text/plain": [
       "[1, 3, 5, 7, 9]"
      ]
     },
     "execution_count": 16,
     "metadata": {},
     "output_type": "execute_result"
    }
   ],
   "source": [
    "def odd(x):\n",
    "    if x%2 == 0:\n",
    "        return False\n",
    "    return True\n",
    "\n",
    "list(filter(odd, range(10)))"
   ]
  },
  {
   "cell_type": "code",
   "execution_count": 17,
   "metadata": {
    "hidden": true
   },
   "outputs": [
    {
     "data": {
      "text/plain": [
       "['a', 'b', 'c', 'i', 'j', 'k']"
      ]
     },
     "execution_count": 17,
     "metadata": {},
     "output_type": "execute_result"
    }
   ],
   "source": [
    "def lower(x):\n",
    "    if x.isupper():\n",
    "        return False\n",
    "    return True\n",
    "\n",
    "list(filter(lower, \"abcDEFGHijk\"))"
   ]
  },
  {
   "cell_type": "markdown",
   "metadata": {
    "hidden": true
   },
   "source": [
    "#### `map`"
   ]
  },
  {
   "cell_type": "markdown",
   "metadata": {
    "hidden": true
   },
   "source": [
    "__Important:__\n",
    "It creates an iterator that takes one __sequence__ or more and convert each item based on a given __function__."
   ]
  },
  {
   "cell_type": "code",
   "execution_count": 18,
   "metadata": {
    "hidden": true
   },
   "outputs": [
    {
     "data": {
      "text/plain": [
       "[0, 1, 4, 9, 16, 25, 36, 49, 64, 81]"
      ]
     },
     "execution_count": 18,
     "metadata": {},
     "output_type": "execute_result"
    }
   ],
   "source": [
    "def square(x):\n",
    "    return x**2\n",
    "\n",
    "list(map(square, range(10)))"
   ]
  },
  {
   "cell_type": "code",
   "execution_count": 19,
   "metadata": {
    "hidden": true
   },
   "outputs": [
    {
     "data": {
      "text/plain": [
       "['B', 'D', 'A', 'C', 'F']"
      ]
     },
     "execution_count": 19,
     "metadata": {},
     "output_type": "execute_result"
    }
   ],
   "source": [
    "def toGrade(x):\n",
    "    if (x >= 90):\n",
    "        return 'A'\n",
    "    elif (x >= 80 and x < 90):\n",
    "        return 'B'\n",
    "    elif (x >= 70 and x < 80):\n",
    "        return 'C'\n",
    "    elif (x >= 65 and x < 70):\n",
    "        return 'D'\n",
    "    else:\n",
    "        return 'F'\n",
    "    \n",
    "list(map(toGrade, [81, 68, 94, 78, 61]))"
   ]
  },
  {
   "cell_type": "markdown",
   "metadata": {
    "heading_collapsed": true,
    "hidden": true
   },
   "source": [
    "### Itertools"
   ]
  },
  {
   "cell_type": "code",
   "execution_count": 20,
   "metadata": {
    "hidden": true
   },
   "outputs": [],
   "source": [
    "import itertools"
   ]
  },
  {
   "cell_type": "markdown",
   "metadata": {
    "hidden": true
   },
   "source": [
    "#### `itertools.cycle`"
   ]
  },
  {
   "cell_type": "code",
   "execution_count": 21,
   "metadata": {
    "hidden": true
   },
   "outputs": [
    {
     "name": "stdout",
     "output_type": "stream",
     "text": [
      "cycle 1: 0\n",
      "cycle 2: 1\n",
      "cycle 3: 2\n",
      "cycle 4: 3\n",
      "cycle 5: 0\n",
      "cycle 6: 1\n"
     ]
    }
   ],
   "source": [
    "myCycle = itertools.cycle(range(4))\n",
    "print(\"cycle 1:\", next(myCycle))\n",
    "print(\"cycle 2:\", next(myCycle))\n",
    "print(\"cycle 3:\", next(myCycle))\n",
    "print(\"cycle 4:\", next(myCycle))\n",
    "print(\"cycle 5:\", next(myCycle))\n",
    "print(\"cycle 6:\", next(myCycle))"
   ]
  },
  {
   "cell_type": "markdown",
   "metadata": {
    "hidden": true
   },
   "source": [
    "#### `itertools.count`"
   ]
  },
  {
   "cell_type": "code",
   "execution_count": 22,
   "metadata": {
    "hidden": true
   },
   "outputs": [
    {
     "name": "stdout",
     "output_type": "stream",
     "text": [
      "Count 1: 10\n",
      "Count 2: 20\n",
      "Count 3: 30\n",
      "Count 4: 40\n",
      "Count 5: 50\n",
      "Count 6: 60\n"
     ]
    }
   ],
   "source": [
    "myCount = itertools.count(10, 10)\n",
    "print(\"Count 1:\", next(myCount))\n",
    "print(\"Count 2:\", next(myCount))\n",
    "print(\"Count 3:\", next(myCount))\n",
    "print(\"Count 4:\", next(myCount))\n",
    "print(\"Count 5:\", next(myCount))\n",
    "print(\"Count 6:\", next(myCount))"
   ]
  },
  {
   "cell_type": "markdown",
   "metadata": {
    "hidden": true
   },
   "source": [
    "#### `itertools.accumulate`"
   ]
  },
  {
   "cell_type": "code",
   "execution_count": 23,
   "metadata": {
    "hidden": true
   },
   "outputs": [
    {
     "data": {
      "text/plain": [
       "[1, 4, 6, 11, 11]"
      ]
     },
     "execution_count": 23,
     "metadata": {},
     "output_type": "execute_result"
    }
   ],
   "source": [
    "list(itertools.accumulate([1, 3, 2, 5, 0]))"
   ]
  },
  {
   "cell_type": "code",
   "execution_count": 24,
   "metadata": {
    "hidden": true
   },
   "outputs": [
    {
     "data": {
      "text/plain": [
       "[1, 3, 3, 5, 5]"
      ]
     },
     "execution_count": 24,
     "metadata": {},
     "output_type": "execute_result"
    }
   ],
   "source": [
    "list(itertools.accumulate([1, 3, 2, 5, 0], max))"
   ]
  },
  {
   "cell_type": "code",
   "execution_count": 25,
   "metadata": {
    "hidden": true
   },
   "outputs": [
    {
     "data": {
      "text/plain": [
       "[1, 1, 1, 1, 0]"
      ]
     },
     "execution_count": 25,
     "metadata": {},
     "output_type": "execute_result"
    }
   ],
   "source": [
    "list(itertools.accumulate([1, 3, 2, 5, 0], min))"
   ]
  },
  {
   "cell_type": "markdown",
   "metadata": {
    "hidden": true
   },
   "source": [
    "#### `itertools.chain`"
   ]
  },
  {
   "cell_type": "code",
   "execution_count": 26,
   "metadata": {
    "hidden": true
   },
   "outputs": [
    {
     "data": {
      "text/plain": [
       "['A', 'B', 'C', 'D', '1', '2', '3', '4']"
      ]
     },
     "execution_count": 26,
     "metadata": {},
     "output_type": "execute_result"
    }
   ],
   "source": [
    "list(itertools.chain(\"ABCD\", \"1234\"))"
   ]
  },
  {
   "cell_type": "markdown",
   "metadata": {
    "hidden": true
   },
   "source": [
    "#### `dropwhile` and `takewhile`"
   ]
  },
  {
   "cell_type": "code",
   "execution_count": 27,
   "metadata": {
    "hidden": true
   },
   "outputs": [],
   "source": [
    "def cut(x):\n",
    "    return x < 40"
   ]
  },
  {
   "cell_type": "code",
   "execution_count": 28,
   "metadata": {
    "hidden": true
   },
   "outputs": [
    {
     "data": {
      "text/plain": [
       "[40, 50, 40, 30, 20, 10]"
      ]
     },
     "execution_count": 28,
     "metadata": {},
     "output_type": "execute_result"
    }
   ],
   "source": [
    "list(itertools.dropwhile(cut, [10, 20, 30, 40, 50, 40, 30, 20, 10]))"
   ]
  },
  {
   "cell_type": "markdown",
   "metadata": {
    "hidden": true
   },
   "source": [
    "- Note: start the cut once the condition is met. "
   ]
  },
  {
   "cell_type": "code",
   "execution_count": 29,
   "metadata": {
    "hidden": true
   },
   "outputs": [
    {
     "data": {
      "text/plain": [
       "[10, 20, 30]"
      ]
     },
     "execution_count": 29,
     "metadata": {},
     "output_type": "execute_result"
    }
   ],
   "source": [
    "list(itertools.takewhile(cut, [10, 20, 30, 40, 50, 40, 30, 20, 10]))"
   ]
  },
  {
   "cell_type": "markdown",
   "metadata": {
    "hidden": true
   },
   "source": [
    "- Note: stop the cut once the condition is met. "
   ]
  },
  {
   "cell_type": "markdown",
   "metadata": {
    "heading_collapsed": true
   },
   "source": [
    "## Advanced Python Function"
   ]
  },
  {
   "cell_type": "markdown",
   "metadata": {
    "heading_collapsed": true,
    "hidden": true
   },
   "source": [
    "### Function Documentation Strings"
   ]
  },
  {
   "cell_type": "markdown",
   "metadata": {
    "hidden": true
   },
   "source": [
    "__Rules:__\n",
    "- First line should be a summary sentence. \n",
    "- Modules: list important classes and functions. \n",
    "- Classes: list important methods. \n",
    "- Functions: \n",
    "    - list important parameters and explain them (each one in a separate line).\n",
    "    - explain the output if the function returns a value. \n",
    "    - explain exceptions if the function raises any. \n",
    "\n",
    "(for more info check [Pep257](https://www.python.org/dev/peps/pep-0257/))"
   ]
  },
  {
   "cell_type": "code",
   "execution_count": 30,
   "metadata": {
    "hidden": true
   },
   "outputs": [
    {
     "name": "stdout",
     "output_type": "stream",
     "text": [
      " myFunction(arg1, arg2=None) -> list\n",
      "    Paramaters:\n",
      "        arg1: the first argument. \n",
      "        arg2: the second argument. Defaults to None. \n",
      "    \n"
     ]
    }
   ],
   "source": [
    "def myFunc(arg1, arg2=None):\n",
    "    \"\"\" myFunction(arg1, arg2=None) -> list\n",
    "    Paramaters:\n",
    "        arg1: the first argument. \n",
    "        arg2: the second argument. Defaults to None. \n",
    "    \"\"\"\n",
    "    return []\n",
    "    \n",
    "print(myFunc.__doc__)"
   ]
  },
  {
   "cell_type": "markdown",
   "metadata": {
    "heading_collapsed": true,
    "hidden": true
   },
   "source": [
    "### Variable Argument Lists"
   ]
  },
  {
   "cell_type": "markdown",
   "metadata": {
    "hidden": true
   },
   "source": [
    "__Important:__ \n",
    "- This allows to define a function that can take a variable number of arguments.\n",
    "- This approach is useful when the number of arguments is relatively small."
   ]
  },
  {
   "cell_type": "code",
   "execution_count": 31,
   "metadata": {
    "hidden": true
   },
   "outputs": [],
   "source": [
    "def addition(*args):\n",
    "    result = 0\n",
    "    for arg in args:\n",
    "        result += arg\n",
    "    return result"
   ]
  },
  {
   "cell_type": "code",
   "execution_count": 32,
   "metadata": {
    "hidden": true
   },
   "outputs": [
    {
     "data": {
      "text/plain": [
       "60"
      ]
     },
     "execution_count": 32,
     "metadata": {},
     "output_type": "execute_result"
    }
   ],
   "source": [
    "addition(10, 10, 20, 20)"
   ]
  },
  {
   "cell_type": "code",
   "execution_count": 33,
   "metadata": {
    "hidden": true
   },
   "outputs": [
    {
     "data": {
      "text/plain": [
       "60"
      ]
     },
     "execution_count": 33,
     "metadata": {},
     "output_type": "execute_result"
    }
   ],
   "source": [
    "addition(*[10, 10, 20, 20]) # star (*) is used to consider each item as a seperate argument. "
   ]
  },
  {
   "cell_type": "markdown",
   "metadata": {
    "heading_collapsed": true,
    "hidden": true
   },
   "source": [
    "### Lambda Functions"
   ]
  },
  {
   "cell_type": "markdown",
   "metadata": {
    "hidden": true
   },
   "source": [
    "__Important:__\n",
    "- This approach is known in other language as \"anonymous function\".\n",
    "- Definition: `lambda x: func(x)`."
   ]
  },
  {
   "cell_type": "code",
   "execution_count": 34,
   "metadata": {
    "hidden": true
   },
   "outputs": [],
   "source": [
    "def CelsiusToFahrenheit(temp):\n",
    "    return (temp * 9/5) + 32"
   ]
  },
  {
   "cell_type": "code",
   "execution_count": 35,
   "metadata": {
    "hidden": true
   },
   "outputs": [
    {
     "data": {
      "text/plain": [
       "[32.0, 53.6, 93.2, 212.0]"
      ]
     },
     "execution_count": 35,
     "metadata": {},
     "output_type": "execute_result"
    }
   ],
   "source": [
    "ctemps = [0, 12, 34, 100]\n",
    "list(map(CelsiusToFahrenheit, ctemps)) "
   ]
  },
  {
   "cell_type": "markdown",
   "metadata": {
    "hidden": true
   },
   "source": [
    "__Note: since the function is simple, it is preferable to use in-line `lambda`.__"
   ]
  },
  {
   "cell_type": "code",
   "execution_count": 36,
   "metadata": {
    "hidden": true
   },
   "outputs": [
    {
     "data": {
      "text/plain": [
       "[32.0, 53.6, 93.2, 212.0]"
      ]
     },
     "execution_count": 36,
     "metadata": {},
     "output_type": "execute_result"
    }
   ],
   "source": [
    "list(map(lambda t: (t*9/5)+32, ctemps)) # better for readability."
   ]
  },
  {
   "cell_type": "markdown",
   "metadata": {
    "heading_collapsed": true,
    "hidden": true
   },
   "source": [
    "### Keyword-only Arguments"
   ]
  },
  {
   "cell_type": "markdown",
   "metadata": {
    "hidden": true
   },
   "source": [
    "__Important:__\n",
    "- This approach allows some arguments (after *) to be used only with their keyword.\n",
    "- This approach is used to insure quality in the code. "
   ]
  },
  {
   "cell_type": "code",
   "execution_count": 37,
   "metadata": {
    "hidden": true
   },
   "outputs": [],
   "source": [
    "def myFunc(arg1, arg2, *, Flage=False):\n",
    "    pass"
   ]
  },
  {
   "cell_type": "code",
   "execution_count": 38,
   "metadata": {
    "hidden": true
   },
   "outputs": [],
   "source": [
    "myFunc(1, 2)\n",
    "# myFunc(1, 2, True) # TypeError: myFunc() takes 2 positional arguments but 3 were given\n",
    "myFunc(1, 2, Flage=True)"
   ]
  },
  {
   "cell_type": "markdown",
   "metadata": {
    "heading_collapsed": true
   },
   "source": [
    "## Advanced Collections"
   ]
  },
  {
   "cell_type": "code",
   "execution_count": 39,
   "metadata": {
    "hidden": true
   },
   "outputs": [],
   "source": [
    "import collections"
   ]
  },
  {
   "cell_type": "markdown",
   "metadata": {
    "heading_collapsed": true,
    "hidden": true
   },
   "source": [
    "### Advanced Collections Overview"
   ]
  },
  {
   "cell_type": "markdown",
   "metadata": {
    "hidden": true
   },
   "source": [
    "__Basic Collections:__\n",
    "- `list`: mutable sequence of values. \n",
    "- `tuple`: immutable sequence of values. \n",
    "- `set`: mutable unordered sequence of distinct values. \n",
    "- `dict`: mutable collection of key-value pairs. \n",
    "\n",
    "__Advanced Collections:__\n",
    "- `namedtuple`: tuple with named fields. \n",
    "- `defaultdict`: dictionaries with special properties.\n",
    "- `Counter`: counts distinct values.\n",
    "- `OrderedDict`: dictionaries with special properties.\n",
    "- `deque`: double ended list object. "
   ]
  },
  {
   "cell_type": "markdown",
   "metadata": {
    "heading_collapsed": true,
    "hidden": true
   },
   "source": [
    "### `namedtuple`"
   ]
  },
  {
   "cell_type": "markdown",
   "metadata": {
    "hidden": true
   },
   "source": [
    "__Important:__\n",
    "- `namedtuple` helps to increase the code readability.\n",
    "- In this case, we can't use default argument values. If the data has a large number of optional/default values, then it is better to use the regular tuple. "
   ]
  },
  {
   "cell_type": "code",
   "execution_count": 40,
   "metadata": {
    "hidden": true
   },
   "outputs": [
    {
     "name": "stdout",
     "output_type": "stream",
     "text": [
      "p (10, 20)\n",
      "p[0]: 10\n",
      "p[1]: 20\n"
     ]
    }
   ],
   "source": [
    "p = (10, 20)\n",
    "print('p', p)\n",
    "print('p[0]:', p[0])\n",
    "print('p[1]:', p[1])"
   ]
  },
  {
   "cell_type": "code",
   "execution_count": 41,
   "metadata": {
    "hidden": true
   },
   "outputs": [
    {
     "name": "stdout",
     "output_type": "stream",
     "text": [
      "Point(x=10, y=20) Point(x=30, y=40)\n",
      "p1[0] 10\n",
      "p1.x: 10\n"
     ]
    }
   ],
   "source": [
    "Point = collections.namedtuple(\"Point\", ['x', 'y'])\n",
    "p1 = Point(10, 20)\n",
    "p2 = Point(30, 40)\n",
    "print(p1, p2)\n",
    "print('p1[0]', p1[0])\n",
    "print('p1.x:', p1.x)"
   ]
  },
  {
   "cell_type": "code",
   "execution_count": 42,
   "metadata": {
    "hidden": true
   },
   "outputs": [
    {
     "name": "stdout",
     "output_type": "stream",
     "text": [
      "Point(x=100, y=20)\n"
     ]
    }
   ],
   "source": [
    "p1 = p1._replace(x=100)\n",
    "print(p1)"
   ]
  },
  {
   "cell_type": "markdown",
   "metadata": {
    "heading_collapsed": true,
    "hidden": true
   },
   "source": [
    "### `defaultdict`"
   ]
  },
  {
   "cell_type": "code",
   "execution_count": 43,
   "metadata": {
    "hidden": true
   },
   "outputs": [
    {
     "data": {
      "text/plain": [
       "{'apple': 2, 'pear': 1, 'orange': 1, 'banana': 3, 'grape': 1}"
      ]
     },
     "execution_count": 43,
     "metadata": {},
     "output_type": "execute_result"
    }
   ],
   "source": [
    "fruits = ['apple', 'pear', 'orange', 'banana', 'apple', 'banana', 'grape', 'banana']\n",
    "fruitCounter = {}\n",
    "for fruit in fruits:\n",
    "    # fruitCounter[fruit]+=1 # KeyError: 'apple' does not exit!\n",
    "    if fruit in fruitCounter.keys():\n",
    "        fruitCounter[fruit] += 1\n",
    "    else: \n",
    "        fruitCounter[fruit] = 1\n",
    "        \n",
    "fruitCounter"
   ]
  },
  {
   "cell_type": "markdown",
   "metadata": {
    "hidden": true
   },
   "source": [
    "__But this code is unnecessarily long!__"
   ]
  },
  {
   "cell_type": "code",
   "execution_count": 44,
   "metadata": {
    "hidden": true
   },
   "outputs": [
    {
     "data": {
      "text/plain": [
       "defaultdict(int, {'apple': 2, 'pear': 1, 'orange': 1, 'banana': 3, 'grape': 1})"
      ]
     },
     "execution_count": 44,
     "metadata": {},
     "output_type": "execute_result"
    }
   ],
   "source": [
    "fruitCounter = collections.defaultdict(int) # defaults to 0 for each new key\n",
    "for fruit in fruits: \n",
    "    fruitCounter[fruit] += 1\n",
    "fruitCounter"
   ]
  },
  {
   "cell_type": "code",
   "execution_count": 45,
   "metadata": {
    "hidden": true
   },
   "outputs": [
    {
     "data": {
      "text/plain": [
       "defaultdict(<function __main__.<lambda>()>,\n",
       "            {'apple': 12, 'pear': 11, 'orange': 11, 'banana': 13, 'grape': 11})"
      ]
     },
     "execution_count": 45,
     "metadata": {},
     "output_type": "execute_result"
    }
   ],
   "source": [
    "fruitCounter = collections.defaultdict(lambda: 10) # defaults to 10 for each new key\n",
    "for fruit in fruits: \n",
    "    fruitCounter[fruit] += 1\n",
    "fruitCounter"
   ]
  },
  {
   "cell_type": "markdown",
   "metadata": {
    "heading_collapsed": true,
    "hidden": true
   },
   "source": [
    "### `Counter`"
   ]
  },
  {
   "cell_type": "markdown",
   "metadata": {
    "hidden": true
   },
   "source": [
    "__Important:__\n",
    "- `Counter` is a `dict` sub-class for counting hashable objects. \n",
    "- `Counter` is similar to `defaultdict`but with additional features to work with numbers and items. "
   ]
  },
  {
   "cell_type": "code",
   "execution_count": 46,
   "metadata": {
    "hidden": true
   },
   "outputs": [
    {
     "name": "stdout",
     "output_type": "stream",
     "text": [
      "c1: Counter({'James': 2, 'Bob': 1, 'Frank': 1})\n",
      "c2: Counter({'Bill': 1, 'Frank': 1, 'James': 1, 'Joe': 1})\n",
      "Counter({'Frank': 1, 'James': 1})\n"
     ]
    }
   ],
   "source": [
    "class1 = ['Bob', 'Frank', 'James', 'James']\n",
    "class2 = ['Bill', 'Frank', 'James', 'Joe']\n",
    "c1 = collections.Counter(class1)\n",
    "c2 = collections.Counter(class2)\n",
    "\n",
    "print('c1:', c1)\n",
    "print('c2:', c2)\n",
    "print(c1 & c2) # count for items that exit in both."
   ]
  },
  {
   "cell_type": "code",
   "execution_count": 47,
   "metadata": {
    "hidden": true
   },
   "outputs": [
    {
     "name": "stdout",
     "output_type": "stream",
     "text": [
      "c1['James']: 2\n",
      "c1 # of students:  3\n"
     ]
    }
   ],
   "source": [
    "print(\"c1['James']:\", c1['James'])\n",
    "print(\"c1 # of students: \", len(c1))"
   ]
  },
  {
   "cell_type": "code",
   "execution_count": 48,
   "metadata": {
    "hidden": true
   },
   "outputs": [
    {
     "name": "stdout",
     "output_type": "stream",
     "text": [
      "[('James', 2), ('Bob', 1), ('Frank', 1)]\n",
      "[('Bill', 1), ('Frank', 1), ('James', 1)]\n"
     ]
    }
   ],
   "source": [
    "print(c1.most_common(3))\n",
    "print(c2.most_common(3))"
   ]
  },
  {
   "cell_type": "code",
   "execution_count": 49,
   "metadata": {
    "hidden": true
   },
   "outputs": [
    {
     "data": {
      "text/plain": [
       "Counter({'Bob': 1, 'Frank': 2, 'James': 3, 'Bill': 1, 'Joe': 1})"
      ]
     },
     "execution_count": 49,
     "metadata": {},
     "output_type": "execute_result"
    }
   ],
   "source": [
    "c1.update(class2)\n",
    "c1"
   ]
  },
  {
   "cell_type": "code",
   "execution_count": 50,
   "metadata": {
    "hidden": true
   },
   "outputs": [
    {
     "data": {
      "text/plain": [
       "Counter({'Bob': 1, 'Frank': 1, 'James': 2, 'Bill': 0, 'Joe': 0})"
      ]
     },
     "execution_count": 50,
     "metadata": {},
     "output_type": "execute_result"
    }
   ],
   "source": [
    "c1.subtract(class2)\n",
    "c1"
   ]
  },
  {
   "cell_type": "markdown",
   "metadata": {
    "heading_collapsed": true,
    "hidden": true
   },
   "source": [
    "### `OrderedDict`"
   ]
  },
  {
   "cell_type": "markdown",
   "metadata": {
    "hidden": true
   },
   "source": [
    "__Important:__\n",
    "- `OrderedDict` is a dict that tracks the order in which items are inserted/sorted. "
   ]
  },
  {
   "cell_type": "code",
   "execution_count": 51,
   "metadata": {
    "hidden": true
   },
   "outputs": [],
   "source": [
    "ordict1 = collections.OrderedDict({'a': 1, 'b': 2, 'c': 3})\n",
    "ordict2 = collections.OrderedDict({'a': 1, 'c': 3, 'b': 2})\n",
    "dict1 = dict(ordict1)\n",
    "dict2 = dict(ordict2)"
   ]
  },
  {
   "cell_type": "code",
   "execution_count": 52,
   "metadata": {
    "hidden": true
   },
   "outputs": [
    {
     "name": "stdout",
     "output_type": "stream",
     "text": [
      "False\n",
      "True\n",
      "True\n"
     ]
    }
   ],
   "source": [
    "print(ordict1 == ordict2) # order is important\n",
    "print(dict1 == dict2) # order is not important\n",
    "print(dict1 == ordict2) # order is not important"
   ]
  },
  {
   "cell_type": "code",
   "execution_count": 53,
   "metadata": {
    "hidden": true
   },
   "outputs": [
    {
     "data": {
      "text/plain": [
       "[('Juvi', (20, 11)), ('Barca', (22, 8)), ('Liver', (23, 5))]"
      ]
     },
     "execution_count": 53,
     "metadata": {},
     "output_type": "execute_result"
    }
   ],
   "source": [
    "teams = {('Barca', (22, 8)),\n",
    "         ('Juvi', (20, 11)),\n",
    "         ('Liver', (23, 5))}\n",
    "\n",
    "teams_sorted = sorted(teams, key=lambda t: sum(t[1]), reverse=True) # sort by total sum or points\n",
    "#teams_sorted = sorted(teams, key=lambda t: t[1][0], reverse=True) # sort by first amount of points\n",
    "teams_sorted"
   ]
  },
  {
   "cell_type": "code",
   "execution_count": 54,
   "metadata": {
    "hidden": true
   },
   "outputs": [
    {
     "name": "stdout",
     "output_type": "stream",
     "text": [
      "Juvi 31 | Barca 30 | Liver 28 | "
     ]
    }
   ],
   "source": [
    "for name, points in teams:\n",
    "    print(name, sum(points), end=' | ')"
   ]
  },
  {
   "cell_type": "code",
   "execution_count": 55,
   "metadata": {
    "hidden": true
   },
   "outputs": [
    {
     "data": {
      "text/plain": [
       "OrderedDict([('Juvi', (20, 11)), ('Barca', (22, 8)), ('Liver', (23, 5))])"
      ]
     },
     "execution_count": 55,
     "metadata": {},
     "output_type": "execute_result"
    }
   ],
   "source": [
    "teams_ordict = collections.OrderedDict(teams_sorted) # order is maintaned!\n",
    "teams_ordict"
   ]
  },
  {
   "cell_type": "markdown",
   "metadata": {
    "heading_collapsed": true,
    "hidden": true
   },
   "source": [
    "### `deque`"
   ]
  },
  {
   "cell_type": "markdown",
   "metadata": {
    "hidden": true
   },
   "source": [
    "__Important:__\n",
    "- `deque` stands for double-ended queue and pronounced as \"deck\".\n",
    "- `deque` allows to append or pop data from either side.\n",
    "- `deque` is designed to be memory efficient. \n",
    "- `deque` can be initialized as an empty iterable object.\n",
    "- `deque` cab be specified to max length. \n",
    "- `deque` contains:\n",
    "    - `.append()` and `.appendleft()`\n",
    "    - `.pop()` and `.popleft()`\n",
    "    - `.rotate()` or `.rotate(1)`: rotate to right (default) by one step\n",
    "    - `.rotate(-1)`: rotate to left\n",
    "    - `.rotate(n)`: rotate to right n steps\n",
    "    - `.rotate(-n)`: rotate to left n steps"
   ]
  },
  {
   "cell_type": "code",
   "execution_count": 56,
   "metadata": {
    "hidden": true
   },
   "outputs": [
    {
     "data": {
      "text/plain": [
       "'ABCDEFGHIJKLMNOPQRSTUVWXYZ'"
      ]
     },
     "execution_count": 56,
     "metadata": {},
     "output_type": "execute_result"
    }
   ],
   "source": [
    "import string\n",
    "\n",
    "letters = string.ascii_uppercase\n",
    "letters"
   ]
  },
  {
   "cell_type": "code",
   "execution_count": 57,
   "metadata": {
    "hidden": true
   },
   "outputs": [
    {
     "name": "stdout",
     "output_type": "stream",
     "text": [
      "deque(['A', 'B', 'C', 'D', 'E', 'F', 'G', 'H', 'I', 'J', 'K', 'L', 'M', 'N', 'O', 'P', 'Q', 'R', 'S', 'T', 'U', 'V', 'W', 'X', 'Y', 'Z'])\n"
     ]
    }
   ],
   "source": [
    "letters_deque = collections.deque(letters)\n",
    "print(letters_deque)"
   ]
  },
  {
   "cell_type": "code",
   "execution_count": 58,
   "metadata": {
    "hidden": true
   },
   "outputs": [
    {
     "name": "stdout",
     "output_type": "stream",
     "text": [
      "deque(['B', 'C', 'D', 'E', 'F', 'G', 'H', 'I', 'J', 'K', 'L', 'M', 'N', 'O', 'P', 'Q', 'R', 'S', 'T', 'U', 'V', 'W', 'X', 'Y'])\n"
     ]
    }
   ],
   "source": [
    "letters_deque.pop()\n",
    "letters_deque.popleft()\n",
    "print(letters_deque)"
   ]
  },
  {
   "cell_type": "code",
   "execution_count": 59,
   "metadata": {
    "hidden": true
   },
   "outputs": [
    {
     "name": "stdout",
     "output_type": "stream",
     "text": [
      "deque([0, 'B', 'C', 'D', 'E', 'F', 'G', 'H', 'I', 'J', 'K', 'L', 'M', 'N', 'O', 'P', 'Q', 'R', 'S', 'T', 'U', 'V', 'W', 'X', 'Y', 1])\n"
     ]
    }
   ],
   "source": [
    "letters_deque.append(1)\n",
    "letters_deque.appendleft(0)\n",
    "print(letters_deque)"
   ]
  },
  {
   "cell_type": "code",
   "execution_count": 60,
   "metadata": {
    "hidden": true
   },
   "outputs": [
    {
     "name": "stdout",
     "output_type": "stream",
     "text": [
      "deque(['Y', 1, 0, 'B', 'C', 'D', 'E', 'F', 'G', 'H', 'I', 'J', 'K', 'L', 'M', 'N', 'O', 'P', 'Q', 'R', 'S', 'T', 'U', 'V', 'W', 'X'])\n"
     ]
    }
   ],
   "source": [
    "letters_deque.rotate(2)\n",
    "print(letters_deque)"
   ]
  },
  {
   "cell_type": "code",
   "execution_count": 61,
   "metadata": {
    "hidden": true
   },
   "outputs": [
    {
     "name": "stdout",
     "output_type": "stream",
     "text": [
      "rotation 9: deque(['P', 'Q', 'R', 'S', 'T', 'U', 'V', 'W', 'X', 'Y', 1, 0, 'B', 'C', 'D', 'E', 'F', 'G', 'H', 'I', 'J', 'K', 'L', 'M', 'N', 'O'])\r"
     ]
    }
   ],
   "source": [
    "import time\n",
    "rotations = range(10)\n",
    "for i in rotations:\n",
    "    print('rotation {}:'.format(i), letters_deque, end='\\r')\n",
    "    letters_deque.rotate()\n",
    "    time.sleep(0.4)"
   ]
  },
  {
   "cell_type": "markdown",
   "metadata": {
    "heading_collapsed": true
   },
   "source": [
    "## Advanced Classes and Objects"
   ]
  },
  {
   "cell_type": "markdown",
   "metadata": {
    "heading_collapsed": true,
    "hidden": true
   },
   "source": [
    "### Advanced Classes Overview"
   ]
  },
  {
   "cell_type": "markdown",
   "metadata": {
    "hidden": true
   },
   "source": [
    "__Important:__\n",
    "- Python is very customizable! we can:\n",
    "    - create enumerations.\n",
    "    - customize string and byte representation of objects (`str`, `repr`),\n",
    "    - define computed and default attributes.\n",
    "    - control how objects logically compared to each other (`>, <, ==, >=, <=`).\n",
    "    - give objects numeric-like behavior (`+, -`). "
   ]
  },
  {
   "cell_type": "markdown",
   "metadata": {
    "heading_collapsed": true,
    "hidden": true
   },
   "source": [
    "### Defining Enumerations"
   ]
  },
  {
   "cell_type": "markdown",
   "metadata": {
    "hidden": true
   },
   "source": [
    "__Important:__\n",
    "- `Enum` is used to assign easy to read names as a hash values to increase code readability and iterate over. \n",
    "- `Enum` is a class that can be used to create object which have unique keys."
   ]
  },
  {
   "cell_type": "code",
   "execution_count": 62,
   "metadata": {
    "hidden": true
   },
   "outputs": [],
   "source": [
    "from enum import Enum, unique, auto"
   ]
  },
  {
   "cell_type": "code",
   "execution_count": 63,
   "metadata": {
    "hidden": true
   },
   "outputs": [
    {
     "name": "stdout",
     "output_type": "stream",
     "text": [
      "Fruit.APPLE\n",
      "<enum 'Fruit'>\n",
      "<Fruit.APPLE: 1>\n",
      "APPLE 1\n"
     ]
    }
   ],
   "source": [
    "class Fruit(Enum):\n",
    "    APPLE = 1\n",
    "    BANANA = 2\n",
    "    ORANGE = 3\n",
    "    TOMATO = 4\n",
    "    RED = 1\n",
    "    # APPLE = 8 # TypeError: Attempted to reuse key: 'APPLE' \n",
    "\n",
    "print(Fruit.APPLE)\n",
    "print(type(Fruit.APPLE))\n",
    "print(repr(Fruit.APPLE))\n",
    "print(Fruit.APPLE.name, Fruit.APPLE.value)"
   ]
  },
  {
   "cell_type": "code",
   "execution_count": 64,
   "metadata": {
    "hidden": true
   },
   "outputs": [
    {
     "name": "stdout",
     "output_type": "stream",
     "text": [
      "Fruit.APPLE\n"
     ]
    }
   ],
   "source": [
    "@unique # a class decorator to prevent duplicate values\n",
    "class Fruit(Enum):\n",
    "    APPLE = 1\n",
    "    BANANA = 2\n",
    "    ORANGE = 3\n",
    "    TOMATO = 4\n",
    "    # RED = 1 # ValueError: duplicate values found in <enum 'Fruit'>: RED -> APPLE \n",
    "    # APPLE = 8 # TypeError: Attempted to reuse key: 'APPLE' \n",
    "\n",
    "print(Fruit.APPLE)"
   ]
  },
  {
   "cell_type": "code",
   "execution_count": 65,
   "metadata": {
    "hidden": true
   },
   "outputs": [
    {
     "name": "stdout",
     "output_type": "stream",
     "text": [
      "1\n",
      "2\n",
      "3\n",
      "4\n"
     ]
    }
   ],
   "source": [
    "@unique # a class decorator to prevent duplicate values\n",
    "class Fruit(Enum):\n",
    "    APPLE = auto() # to assign numbers according to order. \n",
    "    BANANA = auto()\n",
    "    ORANGE = auto()\n",
    "    TOMATO = auto()\n",
    "    # RED = 1 # ValueError: duplicate values found in <enum 'Fruit'>: RED -> APPLE \n",
    "    # APPLE = 8 # TypeError: Attempted to reuse key: 'APPLE' \n",
    "\n",
    "print(Fruit.APPLE.value)\n",
    "print(Fruit.BANANA.value)\n",
    "print(Fruit.ORANGE.value)\n",
    "print(Fruit.TOMATO.value)"
   ]
  },
  {
   "cell_type": "code",
   "execution_count": 66,
   "metadata": {
    "hidden": true
   },
   "outputs": [
    {
     "name": "stdout",
     "output_type": "stream",
     "text": [
      "Yes!\n"
     ]
    }
   ],
   "source": [
    "# Using enum as a hash value: \n",
    "myFruits = {}\n",
    "myFruits[Fruit.BANANA] = \"Yes!\"\n",
    "print(myFruits[Fruit.BANANA])"
   ]
  },
  {
   "cell_type": "markdown",
   "metadata": {
    "heading_collapsed": true,
    "hidden": true
   },
   "source": [
    "### Class String Values"
   ]
  },
  {
   "cell_type": "markdown",
   "metadata": {
    "hidden": true
   },
   "source": [
    "__Important:__\n",
    "- Converting different kind of values into a string representation is a very common operation.\n",
    "- Python provides a custom class with full control on how the string form will be presented. \n",
    "    - `__str__(self)`: used with `str(object)`, `print(object)`, `\"{}\".format(object)`\n",
    "    - `__repr__(self)`: used with `repr(onject)` \n",
    "        - used for debugging to recreate the same object with the same value.\n",
    "        - if we overwrite `__repr__`and not `__str__`, `__repr__`will also overwrite `__str__`.\n",
    "    - `__format__(self)`: used with `format(object, format_spec)`\n",
    "    - `__bytes__(self)`: used with `bytes(object)`"
   ]
  },
  {
   "cell_type": "code",
   "execution_count": 67,
   "metadata": {
    "hidden": true
   },
   "outputs": [],
   "source": [
    "class Person():\n",
    "    def __init__(self, fname, lname, age):\n",
    "        self.fname = fname\n",
    "        self.lname = lname\n",
    "        self.age = age\n",
    "    \n",
    "    def __repr__(self):\n",
    "        return \"<Person Class - fname: {}, lname: {}, age: {}>\".format(self.fname, self.lname, self.age)\n",
    "    \n",
    "    def __str__(self):\n",
    "        return \"Person ({} {} is {} years old)\".format(self.fname, self.lname, self.age)\n",
    "    \n",
    "    def __bytes__(self):\n",
    "        return \"Person: {}, {}, {}\".format(self.fname, self.lname, self.age).encode('utf-8')"
   ]
  },
  {
   "cell_type": "code",
   "execution_count": 68,
   "metadata": {
    "hidden": true
   },
   "outputs": [
    {
     "name": "stdout",
     "output_type": "stream",
     "text": [
      "Person (Zaka Grin is 31 years old)\n",
      "Person (Zaka Grin is 31 years old)\n",
      "<Person Class - fname: Zaka, lname: Grin, age: 31>\n",
      "b'Person: Zaka, Grin, 31'\n"
     ]
    }
   ],
   "source": [
    "person1 = Person(\"Zaka\", \"Grin\", 31)\n",
    "print(person1)\n",
    "print(str(person1))\n",
    "print(repr(person1))\n",
    "print(bytes(person1))"
   ]
  },
  {
   "cell_type": "markdown",
   "metadata": {
    "heading_collapsed": true,
    "hidden": true
   },
   "source": [
    "### Computed Attributes"
   ]
  },
  {
   "cell_type": "markdown",
   "metadata": {
    "hidden": true
   },
   "source": [
    "__Important:__\n",
    "- used to retrieve and set attribute values.\n",
    "- `__getattribute__(self, attr)`: to get attributes values `object.attr` (called unconditionally each time).\n",
    "- `__getattr__(self, attr)`: to get attributes values with `object.attr` (when `__getattribute__()` is not defined).\n",
    "- `__setattr__(self, attr, val)`: to set attributes with `object.attr = val`.\n",
    "- `__delattr__(self, attr)`: to del attribures with `del(object.attr)`.\n",
    "- `__dir__(self)`: to return string with available attributes and methods with `dir(object)`."
   ]
  },
  {
   "cell_type": "code",
   "execution_count": 69,
   "metadata": {
    "hidden": true
   },
   "outputs": [],
   "source": [
    "class Color():\n",
    "    def __init__(self, red, green, blue):\n",
    "        self.red = red\n",
    "        self.green = green\n",
    "        self.blue = blue\n",
    "    \n",
    "    def __getattr__(self, attr):\n",
    "        if attr == 'rgb':\n",
    "            return (self.red, self.green, self.blue)\n",
    "        elif attr == 'bgr':\n",
    "            return (self.blue, self.green, self.red)\n",
    "        elif attr == 'hex':\n",
    "            return \"#{0:02x}{1:02x}{2:02x}\".format(self.red, self.green, self.blue)\n",
    "        else:\n",
    "            raise AttributeError # for unknown attr, araise an Error!\n",
    "            \n",
    "    def __setattr__(self, attr, val):\n",
    "        if attr == 'rgb':\n",
    "            self.red = val[0]\n",
    "            self.green = val[1]\n",
    "            self.blue = val[2]\n",
    "        elif attr == 'bgr':\n",
    "            self.blue = val[0]\n",
    "            self.green = val[1]\n",
    "            self.red = val[2]\n",
    "        else:\n",
    "            super().__setattr__(attr, val) # otherwise, __getattr__() will be called which cause an Error! \n",
    "        \n",
    "    def __dir__(self):\n",
    "        return ('red', 'green', 'blue', 'rgb', 'bgr', 'hex')"
   ]
  },
  {
   "cell_type": "code",
   "execution_count": 70,
   "metadata": {
    "hidden": true
   },
   "outputs": [
    {
     "name": "stdout",
     "output_type": "stream",
     "text": [
      "(10, 20, 40)\n",
      "(40, 20, 10)\n",
      "#0a1428\n"
     ]
    }
   ],
   "source": [
    "color = Color(red=10, green=20, blue=40)\n",
    "print(color.rgb)\n",
    "print(color.bgr)\n",
    "print(color.hex)"
   ]
  },
  {
   "cell_type": "code",
   "execution_count": 71,
   "metadata": {
    "hidden": true
   },
   "outputs": [
    {
     "name": "stdout",
     "output_type": "stream",
     "text": [
      "(20, 40, 50)\n",
      "(50, 40, 20)\n",
      "#322814\n"
     ]
    }
   ],
   "source": [
    "color.bgr = (20, 40, 50)\n",
    "print(color.bgr)\n",
    "print(color.rgb)\n",
    "print(color.hex)"
   ]
  },
  {
   "cell_type": "code",
   "execution_count": 72,
   "metadata": {
    "hidden": true
   },
   "outputs": [
    {
     "data": {
      "text/plain": [
       "['bgr', 'blue', 'green', 'hex', 'red', 'rgb']"
      ]
     },
     "execution_count": 72,
     "metadata": {},
     "output_type": "execute_result"
    }
   ],
   "source": [
    "dir(color)"
   ]
  },
  {
   "cell_type": "markdown",
   "metadata": {
    "heading_collapsed": true,
    "hidden": true
   },
   "source": [
    "### Object Operations"
   ]
  },
  {
   "cell_type": "markdown",
   "metadata": {
    "hidden": true
   },
   "source": [
    "__Important:__\n",
    "- `__add__(self, other)`: used with addition (`self + other`).\n",
    "- `__sub__(self, other)`: used with subtraction (`self - other`).\n",
    "- `__mul__(self, other)`: used with multiplication (`self * other`).\n",
    "- `__div__(self, other)`: used with division (`self / other`).\n",
    "- `__Floordiv__(self, other)`: used with integer division (`self // other`).\n",
    "- `__pow__(self, other)`: used with power (`self ** other`).\n",
    "- `__and__(self, other)`: used with `and` operator (`self and other` or `self & other`).\n",
    "- `__or__(self, other)`: used with `or` operator (`self or other` or `slef | other`).\n",
    "\n",
    "(for inplace operations, `i` is added before the operation name)\n",
    "- `__iadd__(self, other)`: used with inplace addition (`self += other`).\n",
    "- `__isub__(self, other)`: used with inplace subtraction (`self -= other`).\n",
    "\n",
    "...\n",
    "- `__iand__(self, other)`: used with inplace `and` operator (`self &= other`).\n",
    "- `__ior__(self, other)`: used with inplace `or` operator (`self |= other`).\n",
    "\n",
    "(See [Python Documentation Data Model](https://docs.python.org/3/reference/datamodel.html)). "
   ]
  },
  {
   "cell_type": "code",
   "execution_count": 73,
   "metadata": {
    "hidden": true
   },
   "outputs": [],
   "source": [
    "class Point():\n",
    "    def __init__(self, x, y):\n",
    "        self.x = x\n",
    "        self.y = y\n",
    "    \n",
    "    def __repr__(self):\n",
    "        return \"<Point x:{}, y:{}>\".format(self.x, self.y)\n",
    "    \n",
    "    def __add__(self, other):\n",
    "        return Point(self.x+other.x, self.y+other.y)\n",
    "    \n",
    "    def __sub__(self, other):\n",
    "        return Point(self.x-other.x, self.y-other.y)\n",
    "    \n",
    "    def __iadd__(self, other):\n",
    "        self.x += other.x\n",
    "        self.y += other.y\n",
    "        return self"
   ]
  },
  {
   "cell_type": "code",
   "execution_count": 74,
   "metadata": {
    "hidden": true
   },
   "outputs": [
    {
     "name": "stdout",
     "output_type": "stream",
     "text": [
      "<Point x:40, y:60>\n",
      "<Point x:-20, y:-20>\n",
      "<Point x:40, y:60>\n"
     ]
    }
   ],
   "source": [
    "p1 = Point(10, 20)\n",
    "p2 = Point(30, 40)\n",
    "print(p1+p2)\n",
    "print(p1-p2)\n",
    "p1 += p2\n",
    "print(p1)"
   ]
  },
  {
   "cell_type": "markdown",
   "metadata": {
    "heading_collapsed": true,
    "hidden": true
   },
   "source": [
    "### Object Comparisons"
   ]
  },
  {
   "cell_type": "markdown",
   "metadata": {
    "hidden": true
   },
   "source": [
    "__Important:__\n",
    "- `__gt__(self, other)`: used with `>` operator (`self > other`).\n",
    "- `__ge__(self, other)`: used with `>=` operator (`self >= other`).\n",
    "- `__lt__(self, other)`: used with `<` operator (`self < other`).\n",
    "- `__le__(self, other)`: used with `<=` operator (`self <= other`).\n",
    "- `__eq__(self, other)`: used with `==` operator (`self == other`).\n",
    "- `__ne__(self, other)`: used with `!=` operator (`self != other`)."
   ]
  },
  {
   "cell_type": "code",
   "execution_count": 75,
   "metadata": {
    "hidden": true
   },
   "outputs": [],
   "source": [
    "class Employee():\n",
    "    def __init__(self, name, level, years):\n",
    "        self.name = name\n",
    "        self.level = level\n",
    "        self.years = years\n",
    "        \n",
    "    def __gt__(self, other):\n",
    "        if self.level == other.level:\n",
    "            return self.years > other.years\n",
    "        return self.level > other.level\n",
    "    \n",
    "    def __ge__(self, other):\n",
    "        if self.level == other.level:\n",
    "            return self.years >= other.years\n",
    "        return self.level >= other.level\n",
    "    \n",
    "    def __lt__(self, other):\n",
    "        if self.level == other.level:\n",
    "            return self.years < other.years\n",
    "        return self.level < other.level\n",
    "\n",
    "    def __le__(self, other):\n",
    "        if self.level == other.level:\n",
    "            return self.years <= other.years\n",
    "        return self.level <= other.level\n",
    "    \n",
    "    def __eq__(self, other):\n",
    "        return self.level == other.level\n",
    "    \n",
    "    def __repr__(self): # to pass a string value\n",
    "        return \"Employee: name={}, level={}, years={}\".format(self.name, self.level, self.years)\n",
    "    \n",
    "    #def __str__(self): # to print (if not defined then __repr__()). \n",
    "    #    return \"Employee: name={}, level={}, years={}\".format(self.name, self.level, self.years)"
   ]
  },
  {
   "cell_type": "code",
   "execution_count": 76,
   "metadata": {
    "hidden": true
   },
   "outputs": [
    {
     "name": "stdout",
     "output_type": "stream",
     "text": [
      ">  False\n",
      ">= False\n",
      "<  True\n",
      "<= True\n",
      "== True\n"
     ]
    }
   ],
   "source": [
    "omar = Employee('omer', 3, 3)\n",
    "zaka = Employee('Zaka', 3, 4)\n",
    "print('> ', omar > zaka)\n",
    "print('>=', omar >= zaka)\n",
    "print('< ', omar < zaka)\n",
    "print('<=', omar <= zaka)\n",
    "print('==', omar == zaka)"
   ]
  },
  {
   "cell_type": "code",
   "execution_count": 77,
   "metadata": {
    "hidden": true
   },
   "outputs": [],
   "source": [
    "dept = []\n",
    "dept.append(Employee('Sim', 5, 9))\n",
    "dept.append(Employee('Dos', 4, 12))\n",
    "dept.append(Employee('Jan', 6, 6))\n",
    "dept.append(Employee('Rob', 7, 11))\n",
    "dept.append(Employee('Dur', 6, 12))"
   ]
  },
  {
   "cell_type": "code",
   "execution_count": 78,
   "metadata": {
    "hidden": true
   },
   "outputs": [
    {
     "data": {
      "text/plain": [
       "False"
      ]
     },
     "execution_count": 78,
     "metadata": {},
     "output_type": "execute_result"
    }
   ],
   "source": [
    "dept[0] > dept[2]"
   ]
  },
  {
   "cell_type": "code",
   "execution_count": 79,
   "metadata": {
    "hidden": true
   },
   "outputs": [
    {
     "data": {
      "text/plain": [
       "True"
      ]
     },
     "execution_count": 79,
     "metadata": {},
     "output_type": "execute_result"
    }
   ],
   "source": [
    "dept[4] < dept[3]"
   ]
  },
  {
   "cell_type": "code",
   "execution_count": 80,
   "metadata": {
    "hidden": true
   },
   "outputs": [
    {
     "data": {
      "text/plain": [
       "[Employee: name=Sim, level=5, years=9,\n",
       " Employee: name=Dos, level=4, years=12,\n",
       " Employee: name=Jan, level=6, years=6,\n",
       " Employee: name=Rob, level=7, years=11,\n",
       " Employee: name=Dur, level=6, years=12]"
      ]
     },
     "execution_count": 80,
     "metadata": {},
     "output_type": "execute_result"
    }
   ],
   "source": [
    "dept"
   ]
  },
  {
   "cell_type": "code",
   "execution_count": 81,
   "metadata": {
    "hidden": true
   },
   "outputs": [
    {
     "data": {
      "text/plain": [
       "[Employee: name=Dos, level=4, years=12,\n",
       " Employee: name=Sim, level=5, years=9,\n",
       " Employee: name=Jan, level=6, years=6,\n",
       " Employee: name=Dur, level=6, years=12,\n",
       " Employee: name=Rob, level=7, years=11]"
      ]
     },
     "execution_count": 81,
     "metadata": {},
     "output_type": "execute_result"
    }
   ],
   "source": [
    "sorted(dept)"
   ]
  },
  {
   "cell_type": "markdown",
   "metadata": {},
   "source": [
    "## Using Logging"
   ]
  },
  {
   "cell_type": "code",
   "execution_count": 82,
   "metadata": {},
   "outputs": [],
   "source": [
    "import logging\n",
    "\n",
    "def read_log_file(path):\n",
    "    file = open(path, mode='r')\n",
    "    for i, line in enumerate(file):\n",
    "        print(i, '\\t', line.strip())\n",
    "    file.close()"
   ]
  },
  {
   "cell_type": "markdown",
   "metadata": {},
   "source": [
    "### Overview of Logging"
   ]
  },
  {
   "cell_type": "markdown",
   "metadata": {},
   "source": [
    "__Important:__\n",
    "- Logging is an important tool in the development process where events are recorded for later analysis. \n",
    "- Logging events helps to diagnose problems. \n",
    "- If we use remote/external server, it is difficult to debug without recording these events in files which can be done by logging. \n",
    "- Some errors happens only occasionally during the program life time. These error can be captured by logging.\n",
    "- Logging makes it easy to understand events happened while the program executed which allows us to track errors. \n",
    "- Logging has a highly customizable output. Therefore, everyone should use them (but in fact they do not)."
   ]
  },
  {
   "cell_type": "markdown",
   "metadata": {},
   "source": [
    "### Basic Logging"
   ]
  },
  {
   "cell_type": "markdown",
   "metadata": {},
   "source": [
    "__Basic Levels:__\n",
    "- `logging.debug(\"message\")`: used for debugging\n",
    "- `logging.info(\"message\")`: used to record general info.\n",
    "- `logging.warning(\"message\")`: used to indicate an approaching problem.\n",
    "- `logging.problem(\"message\")`: used to record a problem.\n",
    "- `logging.critical(\"message\")`: used to record a serious error.\n",
    "\n",
    "__Config:__\n",
    "- `logging.basicConfig(level=logging.DEBUG, filename='output.log', filemode='w')`: \n",
    "    - `level=logging.DEBUG`: to set the minimum required level to `debug` level (default is `warning`).\n",
    "    - `filename`: file name including the path.\n",
    "    - `filemode`: \n",
    "        - `a`: append to the file.\n",
    "        - `w`: write on top of an existing file (i.e. previous info will be deleted).\n",
    "- Note that for levels we use uppercase (e.g `DEBUG, INFO`) while in functions we use lowercase (e.g. `debug, info`)."
   ]
  },
  {
   "cell_type": "raw",
   "metadata": {},
   "source": [
    "logging.basicConfig(level=logging.INFO, \n",
    "                    filename='output1.log', \n",
    "                    filemode='w')\n",
    "\n",
    "logging.debug(\"debug message\") # not shown\n",
    "logging.info(\"info message\") # min level\n",
    "logging.warning(\"warning message\") # default\n",
    "logging.error(\"error message\") \n",
    "logging.critical(\"critical message\")"
   ]
  },
  {
   "cell_type": "code",
   "execution_count": 83,
   "metadata": {},
   "outputs": [
    {
     "name": "stdout",
     "output_type": "stream",
     "text": [
      "0 \t INFO:root:info message\n",
      "1 \t WARNING:root:warning message\n",
      "2 \t ERROR:root:error message\n",
      "3 \t CRITICAL:root:critical message\n",
      "4 \t INFO:root:info message\n"
     ]
    }
   ],
   "source": [
    "read_log_file('output1.log')"
   ]
  },
  {
   "cell_type": "markdown",
   "metadata": {},
   "source": [
    "### Custom Logging"
   ]
  },
  {
   "cell_type": "markdown",
   "metadata": {},
   "source": [
    "__Important:__\n",
    "- `logging.basicConfig()` can also take:\n",
    "    - `format=formatstr`: to format messages.\n",
    "        - `formatstr=`\n",
    "            - `%(asctime)s`: human readable log date.\n",
    "            - `%(filename)s`: lof filename.\n",
    "            - `%(funcName)s`: log function name.\n",
    "            - `%(levelname)s`: log level name.\n",
    "            - `%(levelno)d`: log level number.\n",
    "            - `%(lineno)d`: log line number.\n",
    "            - `%(message)s`: log message.\n",
    "            - `%(module)s`: log module name.\n",
    "    - `datefmt=datestr`: to format date string.\n",
    "        - `datestr=\"%m/%d/%y %I:%M:%S %p\"`"
   ]
  },
  {
   "cell_type": "code",
   "execution_count": 84,
   "metadata": {},
   "outputs": [],
   "source": [
    "extData = {'user':'zg@go.com'}\n",
    "formatstr = '%(asctime)s (%(funcName)s - Line: %(lineno)d - User: %(user)s) - %(levelname)s: %(message)s'\n",
    "datestr = '%m/%d/%y %I:%M:%S %p'\n",
    "\n",
    "logging.basicConfig(level=logging.DEBUG,\n",
    "                    filename='output2.log',\n",
    "                    filemode='w',\n",
    "                    format=formatstr,\n",
    "                    datefmt=datestr)\n",
    "\n",
    "logging.debug(\"debug message\", extra=extData)\n",
    "logging.info(\"info message\", extra=extData)\n",
    "logging.warning(\"warning message\", extra=extData)"
   ]
  },
  {
   "cell_type": "code",
   "execution_count": 85,
   "metadata": {},
   "outputs": [
    {
     "name": "stdout",
     "output_type": "stream",
     "text": [
      "0 \t 02/07/21 11:53:43 AM (<module> - Line: 11 - User: zg@go.com) - DEBUG: debug message\n",
      "1 \t 02/07/21 11:53:43 AM (<module> - Line: 12 - User: zg@go.com) - INFO: info message\n",
      "2 \t 02/07/21 11:53:43 AM (<module> - Line: 13 - User: zg@go.com) - WARNING: warning message\n"
     ]
    }
   ],
   "source": [
    "read_log_file('output2.log')"
   ]
  },
  {
   "cell_type": "markdown",
   "metadata": {},
   "source": [
    "## Python Comprehensions"
   ]
  },
  {
   "cell_type": "markdown",
   "metadata": {},
   "source": [
    "### What Are Comprehensions"
   ]
  },
  {
   "cell_type": "markdown",
   "metadata": {},
   "source": [
    "__Important:__\n",
    "- Comprehensions can be applied to: `list, dict, set`.\n",
    "    - `list`comprehensions can do exactly like `map(lambda)` but with simpler code. \n",
    "        - `list(map(FahrenheitToCelsius, [32, 65, 104, 212]))`.\n",
    "        - `list(map(lambda t: (t*9/5)+32, [32, 65, 104, 212]))`.\n",
    "        - `[(t*9/5)+32 for t in [32, 65, 104, 212]]`."
   ]
  },
  {
   "cell_type": "markdown",
   "metadata": {},
   "source": [
    "### List Comprehensions"
   ]
  },
  {
   "cell_type": "code",
   "execution_count": 86,
   "metadata": {},
   "outputs": [],
   "source": [
    "numbers = range(1, 21)\n",
    "evens = list(filter(lambda num: num%2==0, numbers))\n",
    "odds = list(filter(lambda num: num%2!=0, numbers))"
   ]
  },
  {
   "cell_type": "code",
   "execution_count": 87,
   "metadata": {},
   "outputs": [
    {
     "data": {
      "text/plain": [
       "[4, 16, 36, 64, 100, 144, 196, 256, 324, 400]"
      ]
     },
     "execution_count": 87,
     "metadata": {},
     "output_type": "execute_result"
    }
   ],
   "source": [
    "evenSequered = list(map(lambda num: num**2, evens))\n",
    "evenSequered"
   ]
  },
  {
   "cell_type": "code",
   "execution_count": 88,
   "metadata": {},
   "outputs": [
    {
     "data": {
      "text/plain": [
       "[36, 64, 100, 144, 196]"
      ]
     },
     "execution_count": 88,
     "metadata": {},
     "output_type": "execute_result"
    }
   ],
   "source": [
    "# filter to select only: [6, 8, 10, 12, 14]\n",
    "evenSequered = list(map(lambda num: num**2, filter(lambda num: num>4 and num<16, evens)))\n",
    "evenSequered"
   ]
  },
  {
   "cell_type": "code",
   "execution_count": 89,
   "metadata": {},
   "outputs": [
    {
     "data": {
      "text/plain": [
       "[36, 64, 100, 144, 196]"
      ]
     },
     "execution_count": 89,
     "metadata": {},
     "output_type": "execute_result"
    }
   ],
   "source": [
    "# list comprehensions is much simpler than map: \n",
    "evenSequered = [num**2 for num in evens if num>4 and num<16]\n",
    "evenSequered"
   ]
  },
  {
   "cell_type": "markdown",
   "metadata": {},
   "source": [
    "### Dictionary Comprehensions"
   ]
  },
  {
   "cell_type": "code",
   "execution_count": 90,
   "metadata": {},
   "outputs": [
    {
     "name": "stdout",
     "output_type": "stream",
     "text": [
      "{0: 32.0, 12: 53.6, 34: 93.2}\n",
      "53.6\n"
     ]
    }
   ],
   "source": [
    "ctemp = [0, 12, 34, 100]\n",
    "tempDict = {t: (t*9/5)+32 for t in ctemp if t<100}\n",
    "print(tempDict)\n",
    "print(tempDict[12])"
   ]
  },
  {
   "cell_type": "code",
   "execution_count": 91,
   "metadata": {},
   "outputs": [
    {
     "data": {
      "text/plain": [
       "{'Jan': 24, 'Felix': 18, 'Jim': 58, 'Zak': 40, 'Marco': 50, 'Erik': 49}"
      ]
     },
     "execution_count": 91,
     "metadata": {},
     "output_type": "execute_result"
    }
   ],
   "source": [
    "team1 = {'Jan': 24, 'Felix': 18, 'Jim': 58}\n",
    "team2 = {'Zak': 40, 'Marco': 50, 'Erik': 49}\n",
    "\n",
    "newteam = {k:v for team in (team1, team2) for k,v in team.items()}\n",
    "newteam"
   ]
  },
  {
   "cell_type": "markdown",
   "metadata": {},
   "source": [
    "### Set Comprehensions"
   ]
  },
  {
   "cell_type": "code",
   "execution_count": 92,
   "metadata": {},
   "outputs": [
    {
     "name": "stdout",
     "output_type": "stream",
     "text": [
      "[41.0, 50.0, 53.6, 57.2, 50.0, 73.4, 105.8]\n",
      "{73.4, 41.0, 105.8, 50.0, 53.6, 57.2}\n"
     ]
    }
   ],
   "source": [
    "ctemps = [5, 10, 12, 14, 10, 23, 41]\n",
    "ftemps1 = [(t*9/5)+32 for t in ctemps] # list: order and duplicates\n",
    "ftemps2 = {(t*9/5)+32 for t in ctemps} # set: no order no duplicates\n",
    "print(ftemps1)\n",
    "print(ftemps2)"
   ]
  },
  {
   "cell_type": "code",
   "execution_count": 93,
   "metadata": {},
   "outputs": [
    {
     "data": {
      "text/plain": [
       "{'A', 'B', 'L'}"
      ]
     },
     "execution_count": 93,
     "metadata": {},
     "output_type": "execute_result"
    }
   ],
   "source": [
    "text = \"Bla Bla\"\n",
    "chars = {c.upper() for c in text if not c.isspace()}\n",
    "chars"
   ]
  },
  {
   "cell_type": "markdown",
   "metadata": {},
   "source": [
    "## The End"
   ]
  },
  {
   "cell_type": "markdown",
   "metadata": {},
   "source": [
    "__Important:__\n",
    "- Look at the following courses:\n",
    "    - Learning Python GUI Programming.\n",
    "    - Python: Data Analysis\n",
    "- Keep your skills up to date by reading the python documentation [https://www.python.org](https://www.python.org/)."
   ]
  },
  {
   "cell_type": "code",
   "execution_count": 94,
   "metadata": {},
   "outputs": [
    {
     "name": "stdout",
     "output_type": "stream",
     "text": [
      "The End!\n"
     ]
    }
   ],
   "source": [
    "print('The End!')"
   ]
  }
 ],
 "metadata": {
  "kernelspec": {
   "display_name": "Python 3",
   "language": "python",
   "name": "python3"
  },
  "language_info": {
   "codemirror_mode": {
    "name": "ipython",
    "version": 3
   },
   "file_extension": ".py",
   "mimetype": "text/x-python",
   "name": "python",
   "nbconvert_exporter": "python",
   "pygments_lexer": "ipython3",
   "version": "3.7.7"
  },
  "toc": {
   "base_numbering": 1,
   "nav_menu": {},
   "number_sections": true,
   "sideBar": true,
   "skip_h1_title": true,
   "title_cell": "Table of Contents",
   "title_sidebar": "Contents",
   "toc_cell": true,
   "toc_position": {},
   "toc_section_display": true,
   "toc_window_display": false
  },
  "varInspector": {
   "cols": {
    "lenName": 16,
    "lenType": 16,
    "lenVar": 40
   },
   "kernels_config": {
    "python": {
     "delete_cmd_postfix": "",
     "delete_cmd_prefix": "del ",
     "library": "var_list.py",
     "varRefreshCmd": "print(var_dic_list())"
    },
    "r": {
     "delete_cmd_postfix": ") ",
     "delete_cmd_prefix": "rm(",
     "library": "var_list.r",
     "varRefreshCmd": "cat(var_dic_list()) "
    }
   },
   "types_to_exclude": [
    "module",
    "function",
    "builtin_function_or_method",
    "instance",
    "_Feature"
   ],
   "window_display": false
  }
 },
 "nbformat": 4,
 "nbformat_minor": 1
}
